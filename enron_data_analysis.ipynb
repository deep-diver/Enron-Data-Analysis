{
 "cells": [
  {
   "cell_type": "markdown",
   "metadata": {},
   "source": [
    "# Enron Data Analysis"
   ]
  },
  {
   "cell_type": "markdown",
   "metadata": {},
   "source": [
    "<p style=\"text-align: right;\">Chansung, Park</p>"
   ]
  },
  {
   "cell_type": "markdown",
   "metadata": {},
   "source": [
    "This notebook shows how data analysis on enron dataset can be done. The goal of the analysis is to find the best machine learning algorithm with the best precision and recal metric values. Each algorithms' job on the way is to correctly classify poi(person of interest) from the dataset. POIs are who I am interested in since I think they are strongly related to [Enron Scandal](https://en.wikipedia.org/wiki/Enron_scandal). POIs are chosen mannually and provided by Udacity's \"[Intro to Machine Learning](https://www.udacity.com/course/intro-to-machine-learning--ud120)\" course. You can think of this notebook as a part of the assignment for the final project from the course."
   ]
  },
  {
   "cell_type": "markdown",
   "metadata": {},
   "source": [
    "In order to find the best one, it is good to organize the problem into separate steps below.\n",
    "- loading proper libraries\n",
    "- loading the dataset\n",
    "- inspecting the dataset\n",
    "- applying any kind of machine learning algorithm for the first time\n",
    "- selecting features of my own interest\n",
    "- engineering the data by selected features\n",
    "- applying the machine learning algorithm for the second time\n",
    "- finding the best model by applying a variety of machine learning algorithms and techniques"
   ]
  },
  {
   "cell_type": "code",
   "execution_count": 216,
   "metadata": {
    "collapsed": true
   },
   "outputs": [],
   "source": [
    "%matplotlib inline\n",
    "\n",
    "import sys\n",
    "import pickle\n",
    "import matplotlib\n",
    "import numpy as np\n",
    "import matplotlib.pyplot as plt\n",
    "\n",
    "sys.path.append(\"../tools/\")\n",
    "from feature_format import featureFormat, targetFeatureSplit\n",
    "from sklearn.model_selection import train_test_split\n",
    "from tester import test_classifier\n",
    "\n",
    "with open(\"final_project_dataset.pkl\", \"rb\") as data_file:\n",
    "    data_dict = pickle.load(data_file)"
   ]
  },
  {
   "cell_type": "markdown",
   "metadata": {},
   "source": [
    "It is good practice trying to use pandas library to inspect dataset since pandas provides easier but precise way to do it. In order to do that, I need to convert the raw dataset into pandas dataframe structure."
   ]
  },
  {
   "cell_type": "code",
   "execution_count": 217,
   "metadata": {
    "collapsed": true
   },
   "outputs": [],
   "source": [
    "import pandas as pd\n",
    "data_df = pd.DataFrame(data_dict).T"
   ]
  },
  {
   "cell_type": "code",
   "execution_count": 218,
   "metadata": {},
   "outputs": [
    {
     "data": {
      "text/html": [
       "<div>\n",
       "<style>\n",
       "    .dataframe thead tr:only-child th {\n",
       "        text-align: right;\n",
       "    }\n",
       "\n",
       "    .dataframe thead th {\n",
       "        text-align: left;\n",
       "    }\n",
       "\n",
       "    .dataframe tbody tr th {\n",
       "        vertical-align: top;\n",
       "    }\n",
       "</style>\n",
       "<table border=\"1\" class=\"dataframe\">\n",
       "  <thead>\n",
       "    <tr style=\"text-align: right;\">\n",
       "      <th></th>\n",
       "      <th>bonus</th>\n",
       "      <th>deferral_payments</th>\n",
       "      <th>deferred_income</th>\n",
       "      <th>director_fees</th>\n",
       "      <th>email_address</th>\n",
       "      <th>exercised_stock_options</th>\n",
       "      <th>expenses</th>\n",
       "      <th>from_messages</th>\n",
       "      <th>from_poi_to_this_person</th>\n",
       "      <th>from_this_person_to_poi</th>\n",
       "      <th>...</th>\n",
       "      <th>long_term_incentive</th>\n",
       "      <th>other</th>\n",
       "      <th>poi</th>\n",
       "      <th>restricted_stock</th>\n",
       "      <th>restricted_stock_deferred</th>\n",
       "      <th>salary</th>\n",
       "      <th>shared_receipt_with_poi</th>\n",
       "      <th>to_messages</th>\n",
       "      <th>total_payments</th>\n",
       "      <th>total_stock_value</th>\n",
       "    </tr>\n",
       "  </thead>\n",
       "  <tbody>\n",
       "    <tr>\n",
       "      <th>ALLEN PHILLIP K</th>\n",
       "      <td>4175000</td>\n",
       "      <td>2869717</td>\n",
       "      <td>-3081055</td>\n",
       "      <td>NaN</td>\n",
       "      <td>phillip.allen@enron.com</td>\n",
       "      <td>1729541</td>\n",
       "      <td>13868</td>\n",
       "      <td>2195</td>\n",
       "      <td>47</td>\n",
       "      <td>65</td>\n",
       "      <td>...</td>\n",
       "      <td>304805</td>\n",
       "      <td>152</td>\n",
       "      <td>False</td>\n",
       "      <td>126027</td>\n",
       "      <td>-126027</td>\n",
       "      <td>201955</td>\n",
       "      <td>1407</td>\n",
       "      <td>2902</td>\n",
       "      <td>4484442</td>\n",
       "      <td>1729541</td>\n",
       "    </tr>\n",
       "    <tr>\n",
       "      <th>BADUM JAMES P</th>\n",
       "      <td>NaN</td>\n",
       "      <td>178980</td>\n",
       "      <td>NaN</td>\n",
       "      <td>NaN</td>\n",
       "      <td>NaN</td>\n",
       "      <td>257817</td>\n",
       "      <td>3486</td>\n",
       "      <td>NaN</td>\n",
       "      <td>NaN</td>\n",
       "      <td>NaN</td>\n",
       "      <td>...</td>\n",
       "      <td>NaN</td>\n",
       "      <td>NaN</td>\n",
       "      <td>False</td>\n",
       "      <td>NaN</td>\n",
       "      <td>NaN</td>\n",
       "      <td>NaN</td>\n",
       "      <td>NaN</td>\n",
       "      <td>NaN</td>\n",
       "      <td>182466</td>\n",
       "      <td>257817</td>\n",
       "    </tr>\n",
       "    <tr>\n",
       "      <th>BANNANTINE JAMES M</th>\n",
       "      <td>NaN</td>\n",
       "      <td>NaN</td>\n",
       "      <td>-5104</td>\n",
       "      <td>NaN</td>\n",
       "      <td>james.bannantine@enron.com</td>\n",
       "      <td>4046157</td>\n",
       "      <td>56301</td>\n",
       "      <td>29</td>\n",
       "      <td>39</td>\n",
       "      <td>0</td>\n",
       "      <td>...</td>\n",
       "      <td>NaN</td>\n",
       "      <td>864523</td>\n",
       "      <td>False</td>\n",
       "      <td>1757552</td>\n",
       "      <td>-560222</td>\n",
       "      <td>477</td>\n",
       "      <td>465</td>\n",
       "      <td>566</td>\n",
       "      <td>916197</td>\n",
       "      <td>5243487</td>\n",
       "    </tr>\n",
       "    <tr>\n",
       "      <th>BAXTER JOHN C</th>\n",
       "      <td>1200000</td>\n",
       "      <td>1295738</td>\n",
       "      <td>-1386055</td>\n",
       "      <td>NaN</td>\n",
       "      <td>NaN</td>\n",
       "      <td>6680544</td>\n",
       "      <td>11200</td>\n",
       "      <td>NaN</td>\n",
       "      <td>NaN</td>\n",
       "      <td>NaN</td>\n",
       "      <td>...</td>\n",
       "      <td>1586055</td>\n",
       "      <td>2660303</td>\n",
       "      <td>False</td>\n",
       "      <td>3942714</td>\n",
       "      <td>NaN</td>\n",
       "      <td>267102</td>\n",
       "      <td>NaN</td>\n",
       "      <td>NaN</td>\n",
       "      <td>5634343</td>\n",
       "      <td>10623258</td>\n",
       "    </tr>\n",
       "    <tr>\n",
       "      <th>BAY FRANKLIN R</th>\n",
       "      <td>400000</td>\n",
       "      <td>260455</td>\n",
       "      <td>-201641</td>\n",
       "      <td>NaN</td>\n",
       "      <td>frank.bay@enron.com</td>\n",
       "      <td>NaN</td>\n",
       "      <td>129142</td>\n",
       "      <td>NaN</td>\n",
       "      <td>NaN</td>\n",
       "      <td>NaN</td>\n",
       "      <td>...</td>\n",
       "      <td>NaN</td>\n",
       "      <td>69</td>\n",
       "      <td>False</td>\n",
       "      <td>145796</td>\n",
       "      <td>-82782</td>\n",
       "      <td>239671</td>\n",
       "      <td>NaN</td>\n",
       "      <td>NaN</td>\n",
       "      <td>827696</td>\n",
       "      <td>63014</td>\n",
       "    </tr>\n",
       "  </tbody>\n",
       "</table>\n",
       "<p>5 rows × 21 columns</p>\n",
       "</div>"
      ],
      "text/plain": [
       "                      bonus deferral_payments deferred_income director_fees  \\\n",
       "ALLEN PHILLIP K     4175000           2869717        -3081055           NaN   \n",
       "BADUM JAMES P           NaN            178980             NaN           NaN   \n",
       "BANNANTINE JAMES M      NaN               NaN           -5104           NaN   \n",
       "BAXTER JOHN C       1200000           1295738        -1386055           NaN   \n",
       "BAY FRANKLIN R       400000            260455         -201641           NaN   \n",
       "\n",
       "                                 email_address exercised_stock_options  \\\n",
       "ALLEN PHILLIP K        phillip.allen@enron.com                 1729541   \n",
       "BADUM JAMES P                              NaN                  257817   \n",
       "BANNANTINE JAMES M  james.bannantine@enron.com                 4046157   \n",
       "BAXTER JOHN C                              NaN                 6680544   \n",
       "BAY FRANKLIN R             frank.bay@enron.com                     NaN   \n",
       "\n",
       "                   expenses from_messages from_poi_to_this_person  \\\n",
       "ALLEN PHILLIP K       13868          2195                      47   \n",
       "BADUM JAMES P          3486           NaN                     NaN   \n",
       "BANNANTINE JAMES M    56301            29                      39   \n",
       "BAXTER JOHN C         11200           NaN                     NaN   \n",
       "BAY FRANKLIN R       129142           NaN                     NaN   \n",
       "\n",
       "                   from_this_person_to_poi        ...         \\\n",
       "ALLEN PHILLIP K                         65        ...          \n",
       "BADUM JAMES P                          NaN        ...          \n",
       "BANNANTINE JAMES M                       0        ...          \n",
       "BAXTER JOHN C                          NaN        ...          \n",
       "BAY FRANKLIN R                         NaN        ...          \n",
       "\n",
       "                   long_term_incentive    other    poi restricted_stock  \\\n",
       "ALLEN PHILLIP K                 304805      152  False           126027   \n",
       "BADUM JAMES P                      NaN      NaN  False              NaN   \n",
       "BANNANTINE JAMES M                 NaN   864523  False          1757552   \n",
       "BAXTER JOHN C                  1586055  2660303  False          3942714   \n",
       "BAY FRANKLIN R                     NaN       69  False           145796   \n",
       "\n",
       "                   restricted_stock_deferred  salary shared_receipt_with_poi  \\\n",
       "ALLEN PHILLIP K                      -126027  201955                    1407   \n",
       "BADUM JAMES P                            NaN     NaN                     NaN   \n",
       "BANNANTINE JAMES M                   -560222     477                     465   \n",
       "BAXTER JOHN C                            NaN  267102                     NaN   \n",
       "BAY FRANKLIN R                        -82782  239671                     NaN   \n",
       "\n",
       "                   to_messages total_payments total_stock_value  \n",
       "ALLEN PHILLIP K           2902        4484442           1729541  \n",
       "BADUM JAMES P              NaN         182466            257817  \n",
       "BANNANTINE JAMES M         566         916197           5243487  \n",
       "BAXTER JOHN C              NaN        5634343          10623258  \n",
       "BAY FRANKLIN R             NaN         827696             63014  \n",
       "\n",
       "[5 rows x 21 columns]"
      ]
     },
     "execution_count": 218,
     "metadata": {},
     "output_type": "execute_result"
    }
   ],
   "source": [
    "data_df.head()"
   ]
  },
  {
   "cell_type": "code",
   "execution_count": 219,
   "metadata": {},
   "outputs": [
    {
     "name": "stdout",
     "output_type": "stream",
     "text": [
      "<class 'pandas.core.frame.DataFrame'>\n",
      "Index: 146 entries, ALLEN PHILLIP K to YEAP SOON\n",
      "Data columns (total 21 columns):\n",
      "bonus                        146 non-null object\n",
      "deferral_payments            146 non-null object\n",
      "deferred_income              146 non-null object\n",
      "director_fees                146 non-null object\n",
      "email_address                146 non-null object\n",
      "exercised_stock_options      146 non-null object\n",
      "expenses                     146 non-null object\n",
      "from_messages                146 non-null object\n",
      "from_poi_to_this_person      146 non-null object\n",
      "from_this_person_to_poi      146 non-null object\n",
      "loan_advances                146 non-null object\n",
      "long_term_incentive          146 non-null object\n",
      "other                        146 non-null object\n",
      "poi                          146 non-null object\n",
      "restricted_stock             146 non-null object\n",
      "restricted_stock_deferred    146 non-null object\n",
      "salary                       146 non-null object\n",
      "shared_receipt_with_poi      146 non-null object\n",
      "to_messages                  146 non-null object\n",
      "total_payments               146 non-null object\n",
      "total_stock_value            146 non-null object\n",
      "dtypes: object(21)\n",
      "memory usage: 25.1+ KB\n"
     ]
    }
   ],
   "source": [
    "data_df.info()"
   ]
  },
  {
   "cell_type": "markdown",
   "metadata": {},
   "source": [
    "The data has 21 columns for each person. The columns can be divided into 3 categories like below. Each columns give very nice description about what they are. There are 146 records for the dataset. The each feature(column) of the dataset includes some null values, but it is not depicted in the above table since null value is represented as 'NaN' string value. Later on this analysis, I will go through 'NaN' values for the interesting features."
   ]
  },
  {
   "cell_type": "markdown",
   "metadata": {},
   "source": [
    "**financial features:** \n",
    "['salary', 'deferral_payments', 'total_payments', 'loan_advances', 'bonus', 'restricted_stock_deferred', 'deferred_income', 'total_stock_value', 'expenses', 'exercised_stock_options', 'other', 'long_term_incentive', 'restricted_stock', 'director_fees'] (all units are in US dollars)\n",
    "\n",
    "**email features: **\n",
    "['to_messages', 'email_address', 'from_poi_to_this_person', 'from_messages', 'from_this_person_to_poi', 'shared_receipt_with_poi'] (units are generally number of emails messages; notable exception is ‘email_address’, which is a text string)\n",
    "\n",
    "**POI label: **\n",
    "[‘poi’] (boolean, represented as integer)"
   ]
  },
  {
   "cell_type": "markdown",
   "metadata": {},
   "source": [
    "After carefully reading through each features, I am going to choose features that will be used to perform machine learning later. Here is a brief explanation what I chose and why.\n",
    "- poi: this is what I have to classify after all\n",
    "- salary: I assumed frauds could earn rediculously large amount of salary since they are the ones leading the scandal issue\n",
    "- bonus: the same reason as salary\n",
    "- long_term_incentive: maybe the same reason as salary and bonus. But possibly, they could have got incentives for a short period of time\n",
    "- total_stock_value: this is how actually the frauds are holding their money\n",
    "- exercised_stock_options: if frauds made lots of money in stock value, they could have sold lots of them at once or little by little gradually\n",
    "- from_poi_to_this_person: if someone frequently has sent or received emails to/from pois, they could be suspicious\n",
    "- from_this_person_to_poi: the same reason as from_poi_to_this_person"
   ]
  },
  {
   "cell_type": "code",
   "execution_count": 220,
   "metadata": {
    "collapsed": true
   },
   "outputs": [],
   "source": [
    "features_list = ['poi',\n",
    "                 'salary', 'bonus', \n",
    "                 'long_term_incentive', 'total_stock_value', \n",
    "                 'exercised_stock_options',\n",
    "                 'from_poi_to_this_person', 'from_this_person_to_poi']"
   ]
  },
  {
   "cell_type": "markdown",
   "metadata": {},
   "source": [
    "After choosing the features, it is worth to try them without any engineering. If I can get satisfiable result, I might not need furthur process."
   ]
  },
  {
   "cell_type": "code",
   "execution_count": 221,
   "metadata": {},
   "outputs": [
    {
     "name": "stdout",
     "output_type": "stream",
     "text": [
      "[0.0, 0.0, 0.0, 0.0, 0.0, 0.0, 0.0, 1.0, 0.0, 0.0, 0.0, 0.0, 0.0, 0.0, 1.0, 0.0, 0.0, 0.0, 0.0, 1.0, 0.0, 1.0, 0.0, 0.0, 1.0, 0.0, 0.0, 0.0, 0.0, 1.0, 0.0, 0.0, 0.0, 0.0, 0.0, 0.0, 0.0, 0.0, 0.0, 0.0, 0.0, 1.0, 0.0, 0.0, 0.0, 0.0, 0.0, 0.0, 0.0, 0.0, 0.0, 0.0, 1.0, 0.0, 0.0, 0.0, 1.0, 0.0, 0.0, 0.0, 0.0, 0.0, 1.0, 0.0, 0.0, 0.0, 0.0, 0.0, 0.0, 0.0, 0.0, 0.0, 0.0, 1.0, 1.0, 0.0, 1.0, 0.0, 0.0, 0.0, 0.0, 0.0, 0.0, 0.0, 0.0, 0.0, 0.0, 0.0, 0.0, 0.0, 0.0, 0.0, 0.0, 0.0, 0.0, 0.0, 0.0, 0.0, 0.0, 0.0, 0.0, 0.0, 0.0, 0.0, 1.0, 1.0, 0.0, 0.0, 0.0, 0.0, 1.0, 0.0, 0.0, 1.0, 0.0, 0.0, 0.0, 0.0, 0.0, 0.0, 0.0, 0.0, 0.0, 0.0, 0.0, 0.0, 0.0, 0.0, 0.0, 0.0, 1.0, 0.0]\n",
      "DecisionTreeClassifier(class_weight=None, criterion='gini', max_depth=None,\n",
      "            max_features=None, max_leaf_nodes=None,\n",
      "            min_impurity_split=1e-07, min_samples_leaf=1,\n",
      "            min_samples_split=2, min_weight_fraction_leaf=0.0,\n",
      "            presort=False, random_state=42, splitter='best')\n",
      "\tAccuracy: 0.77593\tPrecision: 0.25443\tRecall: 0.29450\tF1: 0.27300\tF2: 0.28551\n",
      "\tTotal predictions: 14000\tTrue positives:  589\tFalse positives: 1726\tFalse negatives: 1411\tTrue negatives: 10274\n",
      "\n"
     ]
    }
   ],
   "source": [
    "from sklearn.tree import DecisionTreeClassifier\n",
    "\n",
    "def simple_train_result(data):\n",
    "    tmp_data = featureFormat(data, features_list, sort_keys = True)\n",
    "    labels, features = targetFeatureSplit(tmp_data)\n",
    "    features_train, features_test, labels_train, labels_test = \\\n",
    "        train_test_split(features, labels, test_size=0.3, random_state=42)\n",
    "\n",
    "    clf = DecisionTreeClassifier(random_state=42)\n",
    "    clf.fit(features_train, labels_train)\n",
    "\n",
    "    test_classifier(clf, data, features_list)\n",
    "\n",
    "simple_train_result(data_dict)"
   ]
  },
  {
   "cell_type": "markdown",
   "metadata": {},
   "source": [
    "The requirement by Udacity's \"[Intro to Machine Learning](https://www.udacity.com/course/intro-to-machine-learning--ud120)\" course is to get higher value than 0.3 on Recall and Precision metrics. The raw data doesn't meet the requirement. I should go through in more detail on choosing a classifier, choosing right parameters, data engineering, and etc."
   ]
  },
  {
   "cell_type": "markdown",
   "metadata": {},
   "source": [
    "# Removing Outliers"
   ]
  },
  {
   "cell_type": "markdown",
   "metadata": {},
   "source": [
    "Before applying machine learning algorithm directly, it is important to take a look into values belonging to each feature. As a part of data engineering, I am going to inspect values manually since the whole dataset is relatively small. After the inspection, I will remove some data entries that I think them as outliers. I expect to see increment in accuracy, precision, and recall after removing outliers."
   ]
  },
  {
   "cell_type": "markdown",
   "metadata": {},
   "source": [
    "### predefine utility function"
   ]
  },
  {
   "cell_type": "markdown",
   "metadata": {},
   "source": [
    "In order to help with outlier removing process, I am going to define some useful functions.\n",
    "- **sort_without_nan:** return a dictionary data with sorted data by given feature as an argument. when the value of the given feature for a record is 'NaN', it will be excluded.\n",
    "- **show_outliers:** return a dictionary data showing only outliers (Q1-1.5\\*IQR ~ Q3+1.5\\*IQR). the value for the dictionary indicates wheather each record is poi and each record' key\n",
    "- **remove_outliers_then_print:** remove outliers from designated data, and then show the result.\n",
    "- **remove_outliers:** remove outliers from designated data. this function is used in remove_outliers_then_print function internally.\n",
    "- **draw_box_plot:** draw box plot on given data by designated feature."
   ]
  },
  {
   "cell_type": "code",
   "execution_count": 222,
   "metadata": {
    "collapsed": true
   },
   "outputs": [],
   "source": [
    "import pprint\n",
    "pp = pprint.PrettyPrinter(indent=4)\n",
    "\n",
    "def number_of_nan(target_feature):\n",
    "    return len([val for _, val in data_dict.items() if val[target_feature] == 'NaN'])\n",
    "\n",
    "def sort_without_nan(target_feature):\n",
    "    tmp_data_dict = {key:val for key, val in data_dict.items() if val[target_feature] != 'NaN'}\n",
    "    tmp_data_dict = sorted(tmp_data_dict.items(), key=lambda x: x[1][target_feature])\n",
    "    tmp_data_dict = {item[0]:item[1] for item in tmp_data_dict}\n",
    "    return tmp_data_dict\n",
    "\n",
    "def show_outliers(data, target_feature):\n",
    "    tmp = [val[target_feature] for key, val in data.items()]\n",
    "    q1 = np.percentile(tmp, 25)\n",
    "    q3 = np.percentile(tmp, 75)\n",
    "    iqr = q3-q1\n",
    "    \n",
    "    left = q1 - 1.5*iqr\n",
    "    right = q3 + 1.5*iqr\n",
    "    \n",
    "    return {val[target_feature]:[{'poi':val['poi']}, key] for key, val in data.items() if val[target_feature] < left or val[target_feature] > right}\n",
    "\n",
    "def remove_outliers(data, outlier_keys):\n",
    "    for outlier_key in outlier_keys:\n",
    "        if outlier_key in data.keys():\n",
    "            data.pop(outlier_key)\n",
    "            \n",
    "def remove_outliers_then_print(data, outlier_keys, target_feature):\n",
    "    remove_outliers(data, outlier_keys)\n",
    "    tmp_data = show_outliers(data, target_feature)\n",
    "    pp.pprint(tmp_data)\n",
    "\n",
    "def draw_box_plot(data, target_feature):\n",
    "    plt.boxplot([val[target_feature] for key, val in data.items()])\n",
    "    "
   ]
  },
  {
   "cell_type": "markdown",
   "metadata": {},
   "source": [
    "### outliers in salary"
   ]
  },
  {
   "cell_type": "code",
   "execution_count": 223,
   "metadata": {},
   "outputs": [
    {
     "name": "stdout",
     "output_type": "stream",
     "text": [
      "number of 'NaN' in salary => 51\n",
      "{   477: [{'poi': False}, 'BANNANTINE JAMES M'],\n",
      "    6615: [{'poi': False}, 'GRAY RODNEY'],\n",
      "    492375: [{'poi': False}, 'DERRICK JR. JAMES V'],\n",
      "    510364: [{'poi': False}, 'WHALLEY LAWRENCE G'],\n",
      "    655037: [{'poi': False}, 'PICKERING MARK R'],\n",
      "    1060932: [{'poi': False}, 'FREVERT MARK A'],\n",
      "    1072321: [{'poi': True}, 'LAY KENNETH L'],\n",
      "    1111258: [{'poi': True}, 'SKILLING JEFFREY K'],\n",
      "    26704229: [{'poi': False}, 'TOTAL']}\n"
     ]
    }
   ],
   "source": [
    "print(\"number of 'NaN' in salary =>\", number_of_nan('salary'))\n",
    "\n",
    "tmp_data_dict = sort_without_nan('salary')\n",
    "tmp_data = show_outliers(tmp_data_dict, 'salary')\n",
    "pp.pprint(tmp_data)"
   ]
  },
  {
   "cell_type": "markdown",
   "metadata": {},
   "source": [
    "The number of null values in the salary feature is 51. Without consideration on null values, there are 9 outliers in the salary feature. 7 of them are not 'poi'. There are only 2 of them are 'poi' in the group of outliers. It is very obvious the record with the highest salary should not be included because 'TOTAL' indicates the the sum of all salaries."
   ]
  },
  {
   "cell_type": "code",
   "execution_count": 224,
   "metadata": {},
   "outputs": [
    {
     "name": "stdout",
     "output_type": "stream",
     "text": [
      "{   477: [{'poi': False}, 'BANNANTINE JAMES M'],\n",
      "    6615: [{'poi': False}, 'GRAY RODNEY'],\n",
      "    63744: [{'poi': False}, 'WESTFAHL RICHARD K'],\n",
      "    492375: [{'poi': False}, 'DERRICK JR. JAMES V'],\n",
      "    510364: [{'poi': False}, 'WHALLEY LAWRENCE G'],\n",
      "    655037: [{'poi': False}, 'PICKERING MARK R'],\n",
      "    1060932: [{'poi': False}, 'FREVERT MARK A'],\n",
      "    1072321: [{'poi': True}, 'LAY KENNETH L'],\n",
      "    1111258: [{'poi': True}, 'SKILLING JEFFREY K']}\n"
     ]
    },
    {
     "data": {
      "image/png": "[encoded data removed]",
      "text/plain": [
       "<matplotlib.figure.Figure at 0x11c882f28>"
      ]
     },
     "metadata": {},
     "output_type": "display_data"
    }
   ],
   "source": [
    "outliers = ['TOTAL']\n",
    "remove_outliers_then_print(tmp_data_dict, outliers, 'salary')\n",
    "draw_box_plot(tmp_data_dict, 'salary')"
   ]
  },
  {
   "cell_type": "markdown",
   "metadata": {},
   "source": [
    "Because very huge value, 'TOTAL', is removed, outliers can be changed. So, I drew the box plot to see the distribution easily after removing the 'TOTAL'. It looks like all outliers listed are far from the range of (Q1-1.5\\*IQR ~ Q3+1.5\\*IQR). I think I can remove all of them as well"
   ]
  },
  {
   "cell_type": "code",
   "execution_count": 225,
   "metadata": {},
   "outputs": [
    {
     "name": "stdout",
     "output_type": "stream",
     "text": [
      "{   76399: [{'poi': False}, 'REYNOLDS LAWRENCE'],\n",
      "    80818: [{'poi': False}, 'BAZELIDES PHILIP J'],\n",
      "    85274: [{'poi': False}, 'IZZO LAWRENCE L'],\n",
      "    428780: [{'poi': False}, 'SHERRIFF JOHN R'],\n",
      "    440698: [{'poi': True}, 'FASTOW ANDREW S'],\n",
      "    1072321: [{'poi': True}, 'LAY KENNETH L'],\n",
      "    1111258: [{'poi': True}, 'SKILLING JEFFREY K']}\n"
     ]
    },
    {
     "data": {
      "image/png": "[encoded data removed]",
      "text/plain": [
       "<matplotlib.figure.Figure at 0x11c882cc0>"
      ]
     },
     "metadata": {},
     "output_type": "display_data"
    }
   ],
   "source": [
    "outliers += ['BANNANTINE JAMES M', 'GRAY RODNEY', 'WESTFAHL RICHARD K', 'DERRICK JR. JAMES V', 'WHALLEY LAWRENCE G', 'PICKERING MARK R', 'FREVERT MARK A']\n",
    "remove_outliers_then_print(tmp_data_dict, outliers, 'salary')\n",
    "draw_box_plot(tmp_data_dict, 'salary')"
   ]
  },
  {
   "cell_type": "markdown",
   "metadata": {},
   "source": [
    "After removing all outliers, new outliers appeared. However, it looks like the new outliers are near the range of (Q1-1.5\\*IQR ~ Q3+1.5\\*IQR), so I think they are ok to be kept."
   ]
  },
  {
   "cell_type": "code",
   "execution_count": 226,
   "metadata": {},
   "outputs": [
    {
     "name": "stdout",
     "output_type": "stream",
     "text": [
      "[0.0, 0.0, 0.0, 0.0, 0.0, 0.0, 1.0, 0.0, 0.0, 0.0, 0.0, 0.0, 0.0, 1.0, 0.0, 0.0, 0.0, 0.0, 1.0, 0.0, 1.0, 0.0, 0.0, 1.0, 0.0, 0.0, 0.0, 0.0, 1.0, 0.0, 0.0, 0.0, 0.0, 0.0, 0.0, 0.0, 0.0, 0.0, 0.0, 1.0, 0.0, 0.0, 0.0, 0.0, 0.0, 0.0, 0.0, 0.0, 0.0, 1.0, 0.0, 0.0, 1.0, 0.0, 0.0, 0.0, 0.0, 0.0, 1.0, 0.0, 0.0, 0.0, 0.0, 0.0, 0.0, 0.0, 0.0, 0.0, 0.0, 1.0, 1.0, 0.0, 1.0, 0.0, 0.0, 0.0, 0.0, 0.0, 0.0, 0.0, 0.0, 0.0, 0.0, 0.0, 0.0, 0.0, 0.0, 0.0, 0.0, 0.0, 0.0, 0.0, 0.0, 0.0, 0.0, 0.0, 0.0, 0.0, 0.0, 1.0, 1.0, 0.0, 0.0, 0.0, 0.0, 1.0, 0.0, 0.0, 1.0, 0.0, 0.0, 0.0, 0.0, 0.0, 0.0, 0.0, 0.0, 0.0, 0.0, 0.0, 0.0, 0.0, 1.0, 0.0]\n",
      "DecisionTreeClassifier(class_weight=None, criterion='gini', max_depth=None,\n",
      "            max_features=None, max_leaf_nodes=None,\n",
      "            min_impurity_split=1e-07, min_samples_leaf=1,\n",
      "            min_samples_split=2, min_weight_fraction_leaf=0.0,\n",
      "            presort=False, random_state=42, splitter='best')\n",
      "\tAccuracy: 0.77323\tPrecision: 0.29445\tRecall: 0.33950\tF1: 0.31537\tF2: 0.32942\n",
      "\tTotal predictions: 13000\tTrue positives:  679\tFalse positives: 1627\tFalse negatives: 1321\tTrue negatives: 9373\n",
      "\n"
     ]
    }
   ],
   "source": [
    "tmp = data_dict.copy()\n",
    "remove_outliers(tmp, outliers)\n",
    "simple_train_result(tmp)"
   ]
  },
  {
   "cell_type": "code",
   "execution_count": 227,
   "metadata": {
    "collapsed": true
   },
   "outputs": [],
   "source": [
    "remove_outliers(data_dict, outliers)"
   ]
  },
  {
   "cell_type": "markdown",
   "metadata": {},
   "source": [
    "The process of removing the outliers in the salary feature improved the simple default model without any parameter tuning. \n",
    "\n",
    "- Accuracy: 0.77593 -> 0.77323\n",
    "- Precision: 0.25443 -> 0.29445\n",
    "- Recall: 0.29450 -> 0.33950\n",
    "- F1: 0.27300 -> 0.31537\n",
    "\n",
    "Even though the accuracy decreased a little, all other metrics increased a lot. I am expecting the accuracy to  increase later on."
   ]
  },
  {
   "cell_type": "markdown",
   "metadata": {},
   "source": [
    "### outliers in bonus"
   ]
  },
  {
   "cell_type": "code",
   "execution_count": 228,
   "metadata": {},
   "outputs": [
    {
     "name": "stdout",
     "output_type": "stream",
     "text": [
      "number of 'NaN' in bonus => 61\n",
      "{   2500000: [{'poi': False}, 'FALLON JAMES B'],\n",
      "    2600000: [{'poi': False}, 'MCMAHON JEFFREY'],\n",
      "    3000000: [{'poi': True}, 'DELAINEY DAVID W'],\n",
      "    3100000: [{'poi': False}, 'KITCHEN LOUISE'],\n",
      "    4175000: [{'poi': False}, 'ALLEN PHILLIP K'],\n",
      "    5249999: [{'poi': True}, 'BELDEN TIMOTHY N'],\n",
      "    5600000: [{'poi': True}, 'SKILLING JEFFREY K'],\n",
      "    7000000: [{'poi': True}, 'LAY KENNETH L'],\n",
      "    8000000: [{'poi': False}, 'LAVORATO JOHN J']}\n"
     ]
    }
   ],
   "source": [
    "print(\"number of 'NaN' in bonus =>\", number_of_nan('bonus'))\n",
    "\n",
    "tmp_data_dict = sort_without_nan('bonus')\n",
    "tmp_data = show_outliers(tmp_data_dict, 'bonus')\n",
    "pp.pprint(tmp_data)"
   ]
  },
  {
   "cell_type": "markdown",
   "metadata": {},
   "source": [
    "The number of null values in bonus feature is 61. There are 5 non-poi outliers. Because I think poi could have a comparatively very high or low values, if there is non-poi whose value is higher or lower than poi in the group of outliers, I think they should be removed."
   ]
  },
  {
   "cell_type": "code",
   "execution_count": 229,
   "metadata": {},
   "outputs": [
    {
     "name": "stdout",
     "output_type": "stream",
     "text": [
      "{   2000000: [{'poi': False}, 'SHANKMAN JEFFREY A'],\n",
      "    3000000: [{'poi': True}, 'DELAINEY DAVID W'],\n",
      "    5249999: [{'poi': True}, 'BELDEN TIMOTHY N'],\n",
      "    5600000: [{'poi': True}, 'SKILLING JEFFREY K'],\n",
      "    7000000: [{'poi': True}, 'LAY KENNETH L']}\n"
     ]
    },
    {
     "data": {
      "image/png": "[encoded data removed]",
      "text/plain": [
       "<matplotlib.figure.Figure at 0x1138f99e8>"
      ]
     },
     "metadata": {},
     "output_type": "display_data"
    }
   ],
   "source": [
    "outliers = ['LAVORATO JOHN J', 'ALLEN PHILLIP K', 'KITCHEN LOUISE', 'MCMAHON JEFFREY', 'FALLON JAMES B']\n",
    "remove_outliers_then_print(tmp_data_dict, outliers, 'bonus')\n",
    "draw_box_plot(tmp_data_dict, 'bonus')"
   ]
  },
  {
   "cell_type": "markdown",
   "metadata": {},
   "source": [
    "After removing non-poi outliers, it looks like most of remaining outliers are pois which is good to process the further step."
   ]
  },
  {
   "cell_type": "code",
   "execution_count": 230,
   "metadata": {},
   "outputs": [
    {
     "name": "stdout",
     "output_type": "stream",
     "text": [
      "[0.0, 0.0, 0.0, 0.0, 0.0, 1.0, 0.0, 0.0, 0.0, 0.0, 0.0, 0.0, 1.0, 0.0, 0.0, 0.0, 0.0, 1.0, 0.0, 1.0, 0.0, 0.0, 1.0, 0.0, 0.0, 0.0, 0.0, 1.0, 0.0, 0.0, 0.0, 0.0, 0.0, 0.0, 0.0, 0.0, 0.0, 1.0, 0.0, 0.0, 0.0, 0.0, 0.0, 0.0, 0.0, 0.0, 0.0, 1.0, 0.0, 0.0, 1.0, 0.0, 0.0, 0.0, 0.0, 0.0, 1.0, 0.0, 0.0, 0.0, 0.0, 0.0, 0.0, 0.0, 0.0, 0.0, 1.0, 1.0, 1.0, 0.0, 0.0, 0.0, 0.0, 0.0, 0.0, 0.0, 0.0, 0.0, 0.0, 0.0, 0.0, 0.0, 0.0, 0.0, 0.0, 0.0, 0.0, 0.0, 0.0, 0.0, 0.0, 0.0, 0.0, 0.0, 1.0, 1.0, 0.0, 0.0, 0.0, 0.0, 1.0, 0.0, 0.0, 1.0, 0.0, 0.0, 0.0, 0.0, 0.0, 0.0, 0.0, 0.0, 0.0, 0.0, 0.0, 0.0, 0.0, 1.0, 0.0]\n",
      "DecisionTreeClassifier(class_weight=None, criterion='gini', max_depth=None,\n",
      "            max_features=None, max_leaf_nodes=None,\n",
      "            min_impurity_split=1e-07, min_samples_leaf=1,\n",
      "            min_samples_split=2, min_weight_fraction_leaf=0.0,\n",
      "            presort=False, random_state=42, splitter='best')\n",
      "\tAccuracy: 0.79042\tPrecision: 0.37054\tRecall: 0.36850\tF1: 0.36952\tF2: 0.36891\n",
      "\tTotal predictions: 12000\tTrue positives:  737\tFalse positives: 1252\tFalse negatives: 1263\tTrue negatives: 8748\n",
      "\n"
     ]
    }
   ],
   "source": [
    "tmp = data_dict.copy()\n",
    "remove_outliers(tmp, outliers)\n",
    "simple_train_result(tmp)"
   ]
  },
  {
   "cell_type": "markdown",
   "metadata": {},
   "source": [
    "I see a huge improvements on each metrics comparing to the previous.\n",
    "\n",
    "- Accuracy: 0.77323 -> 0.79042\n",
    "- Precision: 0.29445 -> 0.37054\n",
    "- Recall: 0.33950 -> 0.36850\n",
    "- F1: 0.31537 -> 0.36952"
   ]
  },
  {
   "cell_type": "code",
   "execution_count": 231,
   "metadata": {
    "collapsed": true
   },
   "outputs": [],
   "source": [
    "remove_outliers(data_dict, outliers)"
   ]
  },
  {
   "cell_type": "markdown",
   "metadata": {},
   "source": [
    "### outliers in long term incentive"
   ]
  },
  {
   "cell_type": "markdown",
   "metadata": {},
   "source": [
    "I am going through the same process over and over again for the chosen features."
   ]
  },
  {
   "cell_type": "code",
   "execution_count": 232,
   "metadata": {},
   "outputs": [
    {
     "name": "stdout",
     "output_type": "stream",
     "text": [
      "number of 'NaN' in long_term_incentive => 77\n",
      "{   1920000: [{'poi': True}, 'SKILLING JEFFREY K'],\n",
      "    2234774: [{'poi': False}, 'ECHOLS JOHN B'],\n",
      "    3600000: [{'poi': True}, 'LAY KENNETH L'],\n",
      "    5145434: [{'poi': False}, 'MARTIN AMANDA K']}\n"
     ]
    }
   ],
   "source": [
    "print(\"number of 'NaN' in long_term_incentive =>\", number_of_nan('long_term_incentive'))\n",
    "\n",
    "tmp_data_dict = sort_without_nan('long_term_incentive')\n",
    "tmp_data = show_outliers(tmp_data_dict, 'long_term_incentive')\n",
    "pp.pprint(tmp_data)"
   ]
  },
  {
   "cell_type": "code",
   "execution_count": 233,
   "metadata": {},
   "outputs": [
    {
     "name": "stdout",
     "output_type": "stream",
     "text": [
      "{   1586055: [{'poi': False}, 'BAXTER JOHN C'],\n",
      "    1617011: [{'poi': True}, 'RICE KENNETH D'],\n",
      "    1725545: [{'poi': False}, 'MULLER MARK S'],\n",
      "    1736055: [{'poi': True}, 'FASTOW ANDREW S'],\n",
      "    1920000: [{'poi': True}, 'SKILLING JEFFREY K'],\n",
      "    3600000: [{'poi': True}, 'LAY KENNETH L']}\n"
     ]
    },
    {
     "data": {
      "image/png": "[encoded data removed]",
      "text/plain": [
       "<matplotlib.figure.Figure at 0x11b005ac8>"
      ]
     },
     "metadata": {},
     "output_type": "display_data"
    }
   ],
   "source": [
    "outliers = ['ECHOLS JOHN B', 'MARTIN AMANDA K']\n",
    "remove_outliers_then_print(tmp_data_dict, outliers, 'long_term_incentive')\n",
    "draw_box_plot(tmp_data_dict, 'long_term_incentive')"
   ]
  },
  {
   "cell_type": "code",
   "execution_count": 234,
   "metadata": {},
   "outputs": [
    {
     "name": "stdout",
     "output_type": "stream",
     "text": [
      "[0.0, 0.0, 0.0, 0.0, 0.0, 1.0, 0.0, 0.0, 0.0, 0.0, 0.0, 0.0, 1.0, 0.0, 0.0, 0.0, 0.0, 1.0, 0.0, 1.0, 0.0, 0.0, 1.0, 0.0, 0.0, 0.0, 0.0, 1.0, 0.0, 0.0, 0.0, 0.0, 0.0, 0.0, 0.0, 0.0, 1.0, 0.0, 0.0, 0.0, 0.0, 0.0, 0.0, 0.0, 0.0, 0.0, 1.0, 0.0, 0.0, 1.0, 0.0, 0.0, 0.0, 0.0, 0.0, 1.0, 0.0, 0.0, 0.0, 0.0, 0.0, 0.0, 0.0, 0.0, 0.0, 1.0, 1.0, 1.0, 0.0, 0.0, 0.0, 0.0, 0.0, 0.0, 0.0, 0.0, 0.0, 0.0, 0.0, 0.0, 0.0, 0.0, 0.0, 0.0, 0.0, 0.0, 0.0, 0.0, 0.0, 0.0, 0.0, 0.0, 1.0, 1.0, 0.0, 0.0, 0.0, 0.0, 1.0, 0.0, 0.0, 1.0, 0.0, 0.0, 0.0, 0.0, 0.0, 0.0, 0.0, 0.0, 0.0, 0.0, 0.0, 0.0, 0.0, 1.0, 0.0]\n",
      "DecisionTreeClassifier(class_weight=None, criterion='gini', max_depth=None,\n",
      "            max_features=None, max_leaf_nodes=None,\n",
      "            min_impurity_split=1e-07, min_samples_leaf=1,\n",
      "            min_samples_split=2, min_weight_fraction_leaf=0.0,\n",
      "            presort=False, random_state=42, splitter='best')\n",
      "\tAccuracy: 0.79033\tPrecision: 0.37620\tRecall: 0.39200\tF1: 0.38394\tF2: 0.38873\n",
      "\tTotal predictions: 12000\tTrue positives:  784\tFalse positives: 1300\tFalse negatives: 1216\tTrue negatives: 8700\n",
      "\n"
     ]
    }
   ],
   "source": [
    "tmp = data_dict.copy()\n",
    "remove_outliers(tmp, outliers)\n",
    "simple_train_result(tmp)"
   ]
  },
  {
   "cell_type": "markdown",
   "metadata": {},
   "source": [
    "Accuracy score stays almost the same, and precision, recall, and f1 score increased. I think this is a good sign.\n",
    "\n",
    "- Accuracy: 0.79042 -> 0.79033\n",
    "- Precision: 0.37054 -> 0.37620\n",
    "- Recall: 0.36850 -> 0.39200\n",
    "- F1: 0.36952 -> 0.38394"
   ]
  },
  {
   "cell_type": "code",
   "execution_count": 235,
   "metadata": {
    "collapsed": true
   },
   "outputs": [],
   "source": [
    "remove_outliers(data_dict, outliers)"
   ]
  },
  {
   "cell_type": "markdown",
   "metadata": {},
   "source": [
    "### outliers in total stock value"
   ]
  },
  {
   "cell_type": "code",
   "execution_count": 236,
   "metadata": {},
   "outputs": [
    {
     "name": "stdout",
     "output_type": "stream",
     "text": [
      "number of 'NaN' in total_stock_value => 19\n",
      "{   5819980: [{'poi': False}, 'IZZO LAWRENCE L'],\n",
      "    5898997: [{'poi': False}, 'WALLS JR ROBERT H'],\n",
      "    6077885: [{'poi': False}, 'CHRISTODOULOU DIOMEDES'],\n",
      "    6153642: [{'poi': False}, 'KEAN STEVEN J'],\n",
      "    6391065: [{'poi': True}, 'HANNON KEVIN P'],\n",
      "    6678735: [{'poi': False}, 'ELLIOTT STEVEN'],\n",
      "    7256648: [{'poi': False}, 'HORTON STANLEY C'],\n",
      "    7307594: [{'poi': False}, 'OVERDYKE JR JERE C'],\n",
      "    7890324: [{'poi': False}, 'REDMOND BRIAN L'],\n",
      "    8317782: [{'poi': False}, 'DIMICHELE RICHARD G'],\n",
      "    10623258: [{'poi': False}, 'BAXTER JOHN C'],\n",
      "    11884758: [{'poi': True}, 'YEAGER F SCOTT'],\n",
      "    15144123: [{'poi': False}, 'WHITE JR THOMAS E'],\n",
      "    22542539: [{'poi': True}, 'RICE KENNETH D'],\n",
      "    23817930: [{'poi': False}, 'PAI LOU L'],\n",
      "    26093672: [{'poi': True}, 'SKILLING JEFFREY K'],\n",
      "    30766064: [{'poi': True}, 'HIRKO JOSEPH'],\n",
      "    49110078: [{'poi': True}, 'LAY KENNETH L']}\n"
     ]
    },
    {
     "data": {
      "image/png": "[encoded data removed]",
      "text/plain": [
       "<matplotlib.figure.Figure at 0x11ac93438>"
      ]
     },
     "metadata": {},
     "output_type": "display_data"
    }
   ],
   "source": [
    "print(\"number of 'NaN' in total_stock_value =>\", number_of_nan('total_stock_value'))\n",
    "\n",
    "tmp_data_dict = sort_without_nan('total_stock_value')\n",
    "tmp_data = show_outliers(tmp_data_dict, 'total_stock_value')\n",
    "pp.pprint(tmp_data)\n",
    "draw_box_plot(tmp_data_dict, 'total_stock_value')"
   ]
  },
  {
   "cell_type": "code",
   "execution_count": 237,
   "metadata": {},
   "outputs": [
    {
     "name": "stdout",
     "output_type": "stream",
     "text": [
      "{   4817796: [{'poi': False}, 'THORN TERENCE H'],\n",
      "    5819980: [{'poi': False}, 'IZZO LAWRENCE L'],\n",
      "    5898997: [{'poi': False}, 'WALLS JR ROBERT H'],\n",
      "    6077885: [{'poi': False}, 'CHRISTODOULOU DIOMEDES'],\n",
      "    6153642: [{'poi': False}, 'KEAN STEVEN J'],\n",
      "    6391065: [{'poi': True}, 'HANNON KEVIN P'],\n",
      "    11884758: [{'poi': True}, 'YEAGER F SCOTT'],\n",
      "    22542539: [{'poi': True}, 'RICE KENNETH D'],\n",
      "    26093672: [{'poi': True}, 'SKILLING JEFFREY K'],\n",
      "    30766064: [{'poi': True}, 'HIRKO JOSEPH'],\n",
      "    49110078: [{'poi': True}, 'LAY KENNETH L']}\n"
     ]
    },
    {
     "data": {
      "image/png": "[encoded data removed]",
      "text/plain": [
       "<matplotlib.figure.Figure at 0x11ba96d68>"
      ]
     },
     "metadata": {},
     "output_type": "display_data"
    }
   ],
   "source": [
    "outliers = ['PAI LOU L', 'WHITE JR THOMAS E', 'BAXTER JOHN C', 'DIMICHELE RICHARD G', 'REDMOND BRIAN L', 'OVERDYKE JR JERE C', 'HORTON STANLEY C', 'ELLIOTT STEVEN']\n",
    "remove_outliers_then_print(tmp_data_dict, outliers, 'total_stock_value')\n",
    "draw_box_plot(tmp_data_dict, 'total_stock_value')"
   ]
  },
  {
   "cell_type": "code",
   "execution_count": 238,
   "metadata": {},
   "outputs": [
    {
     "name": "stdout",
     "output_type": "stream",
     "text": [
      "[0.0, 0.0, 0.0, 0.0, 1.0, 0.0, 0.0, 0.0, 0.0, 0.0, 0.0, 1.0, 0.0, 0.0, 0.0, 0.0, 1.0, 0.0, 1.0, 0.0, 0.0, 1.0, 0.0, 0.0, 0.0, 0.0, 1.0, 0.0, 0.0, 0.0, 0.0, 0.0, 0.0, 1.0, 0.0, 0.0, 0.0, 0.0, 0.0, 0.0, 0.0, 0.0, 0.0, 1.0, 0.0, 0.0, 1.0, 0.0, 0.0, 0.0, 0.0, 0.0, 1.0, 0.0, 0.0, 0.0, 0.0, 0.0, 0.0, 0.0, 0.0, 1.0, 1.0, 1.0, 0.0, 0.0, 0.0, 0.0, 0.0, 0.0, 0.0, 0.0, 0.0, 0.0, 0.0, 0.0, 0.0, 0.0, 0.0, 0.0, 0.0, 0.0, 0.0, 0.0, 0.0, 1.0, 1.0, 0.0, 0.0, 0.0, 0.0, 1.0, 0.0, 0.0, 1.0, 0.0, 0.0, 0.0, 0.0, 0.0, 0.0, 0.0, 0.0, 0.0, 0.0, 0.0, 0.0, 1.0, 0.0]\n",
      "DecisionTreeClassifier(class_weight=None, criterion='gini', max_depth=None,\n",
      "            max_features=None, max_leaf_nodes=None,\n",
      "            min_impurity_split=1e-07, min_samples_leaf=1,\n",
      "            min_samples_split=2, min_weight_fraction_leaf=0.0,\n",
      "            presort=False, random_state=42, splitter='best')\n",
      "\tAccuracy: 0.80245\tPrecision: 0.45831\tRecall: 0.47550\tF1: 0.46675\tF2: 0.47196\n",
      "\tTotal predictions: 11000\tTrue positives:  951\tFalse positives: 1124\tFalse negatives: 1049\tTrue negatives: 7876\n",
      "\n"
     ]
    }
   ],
   "source": [
    "tmp = data_dict.copy()\n",
    "remove_outliers(tmp, outliers)\n",
    "simple_train_result(tmp)"
   ]
  },
  {
   "cell_type": "markdown",
   "metadata": {},
   "source": [
    "- Accuracy: 0.79033 -> 0.80245\n",
    "- Precision: 0.37620 -> 0.45831\n",
    "- Recall: 0.39200 -> 0.47550\n",
    "- F1: 0.38394 -> 0.46675"
   ]
  },
  {
   "cell_type": "code",
   "execution_count": 239,
   "metadata": {
    "collapsed": true
   },
   "outputs": [],
   "source": [
    "remove_outliers(data_dict, outliers)"
   ]
  },
  {
   "cell_type": "markdown",
   "metadata": {},
   "source": [
    "### outliers in exercised stock options"
   ]
  },
  {
   "cell_type": "code",
   "execution_count": 240,
   "metadata": {},
   "outputs": [
    {
     "name": "stdout",
     "output_type": "stream",
     "text": [
      "number of 'NaN' in exercised_stock_options => 42\n",
      "{   4160672: [{'poi': False}, 'REYNOLDS LAWRENCE'],\n",
      "    4346544: [{'poi': False}, 'WALLS JR ROBERT H'],\n",
      "    4452476: [{'poi': False}, 'THORN TERENCE H'],\n",
      "    5127155: [{'poi': False}, 'CHRISTODOULOU DIOMEDES'],\n",
      "    5538001: [{'poi': True}, 'HANNON KEVIN P'],\n",
      "    8308552: [{'poi': True}, 'YEAGER F SCOTT'],\n",
      "    19250000: [{'poi': True}, 'SKILLING JEFFREY K'],\n",
      "    19794175: [{'poi': True}, 'RICE KENNETH D'],\n",
      "    30766064: [{'poi': True}, 'HIRKO JOSEPH'],\n",
      "    34348384: [{'poi': True}, 'LAY KENNETH L']}\n"
     ]
    },
    {
     "data": {
      "image/png": "[encoded data removed]",
      "text/plain": [
       "<matplotlib.figure.Figure at 0x11b60f390>"
      ]
     },
     "metadata": {},
     "output_type": "display_data"
    }
   ],
   "source": [
    "print(\"number of 'NaN' in exercised_stock_options =>\", number_of_nan('exercised_stock_options'))\n",
    "\n",
    "tmp_data_dict = sort_without_nan('exercised_stock_options')\n",
    "tmp_data = show_outliers(tmp_data_dict, 'exercised_stock_options')\n",
    "pp.pprint(tmp_data)\n",
    "draw_box_plot(tmp_data_dict, 'exercised_stock_options')"
   ]
  },
  {
   "cell_type": "markdown",
   "metadata": {},
   "source": [
    "For the exercised stock options feature, I don't think there are outliers to be removed. Non-pois belonging to the group of outliers are not far from the range of (Q1-1.5\\*IQR ~ Q3+1.5\\*IQR), and they are under the pois. I think they could be useful to predict pois later."
   ]
  },
  {
   "cell_type": "markdown",
   "metadata": {},
   "source": [
    "### outliers in from poi to this person"
   ]
  },
  {
   "cell_type": "code",
   "execution_count": 241,
   "metadata": {},
   "outputs": [
    {
     "name": "stdout",
     "output_type": "stream",
     "text": [
      "number of 'NaN' in from_poi_to_this_person => 50\n",
      "{   156: [{'poi': False}, 'BUY RICHARD B'],\n",
      "    180: [{'poi': False}, 'HAEDICKE MARK E'],\n",
      "    188: [{'poi': False}, 'DONAHUE JR JEFFREY M'],\n",
      "    199: [{'poi': True}, 'CALGER CHRISTOPHER F'],\n",
      "    228: [{'poi': True}, 'BELDEN TIMOTHY N'],\n",
      "    240: [{'poi': True}, 'COLWELL WESLEY'],\n",
      "    305: [{'poi': False}, 'DIETRICH JANET R']}\n"
     ]
    },
    {
     "data": {
      "image/png": "[encoded data removed]",
      "text/plain": [
       "<matplotlib.figure.Figure at 0x11b8157b8>"
      ]
     },
     "metadata": {},
     "output_type": "display_data"
    }
   ],
   "source": [
    "print(\"number of 'NaN' in from_poi_to_this_person =>\", number_of_nan('from_poi_to_this_person'))\n",
    "\n",
    "tmp_data_dict = sort_without_nan('from_poi_to_this_person')\n",
    "tmp_data = show_outliers(tmp_data_dict, 'from_poi_to_this_person')\n",
    "pp.pprint(tmp_data)\n",
    "draw_box_plot(tmp_data_dict, 'from_poi_to_this_person')"
   ]
  },
  {
   "cell_type": "code",
   "execution_count": 242,
   "metadata": {},
   "outputs": [
    {
     "name": "stdout",
     "output_type": "stream",
     "text": [
      "{   144: [{'poi': False}, 'BECK SALLY W'],\n",
      "    156: [{'poi': False}, 'BUY RICHARD B'],\n",
      "    180: [{'poi': False}, 'HAEDICKE MARK E'],\n",
      "    188: [{'poi': False}, 'DONAHUE JR JEFFREY M'],\n",
      "    199: [{'poi': True}, 'CALGER CHRISTOPHER F'],\n",
      "    228: [{'poi': True}, 'BELDEN TIMOTHY N'],\n",
      "    240: [{'poi': True}, 'COLWELL WESLEY']}\n"
     ]
    },
    {
     "data": {
      "image/png": "[encoded data removed]",
      "text/plain": [
       "<matplotlib.figure.Figure at 0x11b628940>"
      ]
     },
     "metadata": {},
     "output_type": "display_data"
    }
   ],
   "source": [
    "outliers = ['DIETRICH JANET R']\n",
    "remove_outliers_then_print(tmp_data_dict, outliers, 'from_poi_to_this_person')\n",
    "draw_box_plot(tmp_data_dict, 'from_poi_to_this_person')"
   ]
  },
  {
   "cell_type": "code",
   "execution_count": 243,
   "metadata": {},
   "outputs": [
    {
     "name": "stdout",
     "output_type": "stream",
     "text": [
      "[0.0, 0.0, 0.0, 0.0, 1.0, 0.0, 0.0, 0.0, 0.0, 0.0, 0.0, 1.0, 0.0, 0.0, 0.0, 0.0, 1.0, 0.0, 1.0, 0.0, 0.0, 1.0, 0.0, 0.0, 0.0, 0.0, 1.0, 0.0, 0.0, 0.0, 0.0, 0.0, 1.0, 0.0, 0.0, 0.0, 0.0, 0.0, 0.0, 0.0, 0.0, 0.0, 1.0, 0.0, 0.0, 1.0, 0.0, 0.0, 0.0, 0.0, 0.0, 1.0, 0.0, 0.0, 0.0, 0.0, 0.0, 0.0, 0.0, 0.0, 1.0, 1.0, 1.0, 0.0, 0.0, 0.0, 0.0, 0.0, 0.0, 0.0, 0.0, 0.0, 0.0, 0.0, 0.0, 0.0, 0.0, 0.0, 0.0, 0.0, 0.0, 0.0, 0.0, 0.0, 1.0, 1.0, 0.0, 0.0, 0.0, 0.0, 1.0, 0.0, 0.0, 1.0, 0.0, 0.0, 0.0, 0.0, 0.0, 0.0, 0.0, 0.0, 0.0, 0.0, 0.0, 0.0, 1.0, 0.0]\n",
      "DecisionTreeClassifier(class_weight=None, criterion='gini', max_depth=None,\n",
      "            max_features=None, max_leaf_nodes=None,\n",
      "            min_impurity_split=1e-07, min_samples_leaf=1,\n",
      "            min_samples_split=2, min_weight_fraction_leaf=0.0,\n",
      "            presort=False, random_state=42, splitter='best')\n",
      "\tAccuracy: 0.79482\tPrecision: 0.43895\tRecall: 0.46200\tF1: 0.45018\tF2: 0.45720\n",
      "\tTotal predictions: 11000\tTrue positives:  924\tFalse positives: 1181\tFalse negatives: 1076\tTrue negatives: 7819\n",
      "\n"
     ]
    }
   ],
   "source": [
    "tmp = data_dict.copy()\n",
    "remove_outliers(tmp, outliers)\n",
    "simple_train_result(tmp)"
   ]
  },
  {
   "cell_type": "markdown",
   "metadata": {},
   "source": [
    "After removing suspected outliers in from_poi_to_this_person feature, all four scores decreased a bit. I think this is not a good sign, so I won't remove those outliers but keep them.\n",
    "\n",
    "- Accuracy: 0.80245 -> 0.79482\n",
    "- Precision: 0.45831 -> 0.43895\n",
    "- Recall: 0.47550 -> 0.46200\n",
    "- F1: 0.46675 -> 0.45018"
   ]
  },
  {
   "cell_type": "markdown",
   "metadata": {},
   "source": [
    "### outliers in from this person to poi"
   ]
  },
  {
   "cell_type": "code",
   "execution_count": 244,
   "metadata": {},
   "outputs": [
    {
     "name": "stdout",
     "output_type": "stream",
     "text": [
      "number of 'NaN' in from_this_person_to_poi => 50\n",
      "{   48: [{'poi': True}, 'RIEKER PAULA H'],\n",
      "    61: [{'poi': False}, 'HAEDICKE MARK E'],\n",
      "    65: [{'poi': False}, 'SHAPIRO RICHARD S'],\n",
      "    71: [{'poi': False}, 'BUY RICHARD B'],\n",
      "    83: [{'poi': False}, 'SHANKMAN JEFFREY A'],\n",
      "    108: [{'poi': True}, 'BELDEN TIMOTHY N'],\n",
      "    171: [{'poi': False}, 'KAMINSKI WINCENTY J'],\n",
      "    194: [{'poi': False}, 'MCCONNELL MICHAEL S'],\n",
      "    386: [{'poi': False}, 'BECK SALLY W'],\n",
      "    387: [{'poi': False}, 'KEAN STEVEN J'],\n",
      "    609: [{'poi': True}, 'DELAINEY DAVID W']}\n"
     ]
    },
    {
     "data": {
      "image/png": "[encoded data removed]",
      "text/plain": [
       "<matplotlib.figure.Figure at 0x11bbefef0>"
      ]
     },
     "metadata": {},
     "output_type": "display_data"
    }
   ],
   "source": [
    "print(\"number of 'NaN' in from_this_person_to_poi =>\", number_of_nan('from_this_person_to_poi'))\n",
    "\n",
    "tmp_data_dict = sort_without_nan('from_this_person_to_poi')\n",
    "tmp_data = show_outliers(tmp_data_dict, 'from_this_person_to_poi')\n",
    "pp.pprint(tmp_data)\n",
    "draw_box_plot(tmp_data_dict, 'from_this_person_to_poi')"
   ]
  },
  {
   "cell_type": "code",
   "execution_count": 245,
   "metadata": {},
   "outputs": [
    {
     "name": "stdout",
     "output_type": "stream",
     "text": [
      "{   38: [{'poi': False}, 'HAYSLETT RODERICK J'],\n",
      "    48: [{'poi': True}, 'RIEKER PAULA H'],\n",
      "    108: [{'poi': True}, 'BELDEN TIMOTHY N'],\n",
      "    609: [{'poi': True}, 'DELAINEY DAVID W']}\n"
     ]
    },
    {
     "data": {
      "image/png": "[encoded data removed]",
      "text/plain": [
       "<matplotlib.figure.Figure at 0x11c7107f0>"
      ]
     },
     "metadata": {},
     "output_type": "display_data"
    }
   ],
   "source": [
    "outliers = ['HAEDICKE MARK E', 'SHAPIRO RICHARD S', 'BUY RICHARD B', 'SHANKMAN JEFFREY A', 'KAMINSKI WINCENTY J', 'MCCONNELL MICHAEL S', 'BECK SALLY W', 'KEAN STEVEN J']\n",
    "remove_outliers_then_print(tmp_data_dict, outliers, 'from_this_person_to_poi')\n",
    "draw_box_plot(tmp_data_dict, 'from_this_person_to_poi')"
   ]
  },
  {
   "cell_type": "code",
   "execution_count": 246,
   "metadata": {},
   "outputs": [
    {
     "name": "stdout",
     "output_type": "stream",
     "text": [
      "[0.0, 0.0, 0.0, 1.0, 0.0, 0.0, 0.0, 0.0, 0.0, 0.0, 1.0, 0.0, 0.0, 0.0, 1.0, 0.0, 1.0, 0.0, 0.0, 1.0, 0.0, 0.0, 0.0, 0.0, 1.0, 0.0, 0.0, 0.0, 0.0, 0.0, 0.0, 1.0, 0.0, 0.0, 0.0, 0.0, 0.0, 0.0, 0.0, 0.0, 0.0, 1.0, 0.0, 1.0, 0.0, 0.0, 0.0, 0.0, 0.0, 1.0, 0.0, 0.0, 0.0, 0.0, 0.0, 0.0, 1.0, 1.0, 1.0, 0.0, 0.0, 0.0, 0.0, 0.0, 0.0, 0.0, 0.0, 0.0, 0.0, 0.0, 0.0, 0.0, 0.0, 0.0, 0.0, 0.0, 0.0, 0.0, 0.0, 1.0, 1.0, 0.0, 0.0, 1.0, 0.0, 0.0, 1.0, 0.0, 0.0, 0.0, 0.0, 0.0, 0.0, 0.0, 0.0, 0.0, 0.0, 0.0, 0.0, 1.0, 0.0]\n",
      "DecisionTreeClassifier(class_weight=None, criterion='gini', max_depth=None,\n",
      "            max_features=None, max_leaf_nodes=None,\n",
      "            min_impurity_split=1e-07, min_samples_leaf=1,\n",
      "            min_samples_split=2, min_weight_fraction_leaf=0.0,\n",
      "            presort=False, random_state=42, splitter='best')\n",
      "\tAccuracy: 0.82718\tPrecision: 0.52442\tRecall: 0.53150\tF1: 0.52794\tF2: 0.53007\n",
      "\tTotal predictions: 11000\tTrue positives: 1063\tFalse positives:  964\tFalse negatives:  937\tTrue negatives: 8036\n",
      "\n"
     ]
    }
   ],
   "source": [
    "tmp = data_dict.copy()\n",
    "remove_outliers(tmp, outliers)\n",
    "simple_train_result(tmp)"
   ]
  },
  {
   "cell_type": "markdown",
   "metadata": {},
   "source": [
    "Unlike the from_poi_to_this_person feature, from_this_person_to_poi feature looks like containing lots of outliers which could bring huge improvement when removed. As the simple test shows, it gives better results on the four scores.\n",
    "\n",
    "- Accuracy: 0.80245 -> 0.82718\n",
    "- Precision: 0.45831 -> 0.52442\n",
    "- Recall: 0.47550 -> 0.53150\n",
    "- F1: 0.46675 -> 0.52794"
   ]
  },
  {
   "cell_type": "code",
   "execution_count": 247,
   "metadata": {
    "collapsed": true
   },
   "outputs": [],
   "source": [
    "remove_outliers(data_dict, outliers)"
   ]
  },
  {
   "cell_type": "markdown",
   "metadata": {},
   "source": [
    "# Adding custom features"
   ]
  },
  {
   "cell_type": "markdown",
   "metadata": {},
   "source": [
    "As a experimental purpose, I am going to create a PCA applied new feature containing deferral_payments and deferred_income features. Since they have a strong correlation coefficient each other, I think I can put them into the same dimension. I am going to go through the steps below.\n",
    "\n",
    "- find & remove outliers in deferral_payments and deferred_income\n",
    "- insert mean value for 'NaN'(null) record for each feature\n",
    "- scale them into the same range using MinMaxScaler\n",
    "- apply PCA and create a new feature named, \"deferral_payments+deferred_income\"\n",
    "- after applying PCA, remove newly formed outliers in the new feature"
   ]
  },
  {
   "cell_type": "markdown",
   "metadata": {},
   "source": [
    "### outliers in deferral payments & deferred income"
   ]
  },
  {
   "cell_type": "code",
   "execution_count": 248,
   "metadata": {},
   "outputs": [
    {
     "name": "stdout",
     "output_type": "stream",
     "text": [
      "number of 'NaN' in deferral_payments => 85\n",
      "{   1848227: [{'poi': False}, 'MEYER ROCKFORD G'],\n",
      "    2144013: [{'poi': True}, 'BELDEN TIMOTHY N'],\n",
      "    2964506: [{'poi': False}, 'HUMPHREY GENE E']}\n"
     ]
    },
    {
     "data": {
      "image/png": "[encoded data removed]",
      "text/plain": [
       "<matplotlib.figure.Figure at 0x11cb0d080>"
      ]
     },
     "metadata": {},
     "output_type": "display_data"
    }
   ],
   "source": [
    "print(\"number of 'NaN' in deferral_payments =>\", number_of_nan('deferral_payments'))\n",
    "\n",
    "tmp_data_dict_deferral_payments = sort_without_nan('deferral_payments')\n",
    "tmp_data = show_outliers(tmp_data_dict_deferral_payments, 'deferral_payments')\n",
    "pp.pprint(tmp_data)\n",
    "draw_box_plot(tmp_data_dict_deferral_payments, 'deferral_payments')"
   ]
  },
  {
   "cell_type": "code",
   "execution_count": 249,
   "metadata": {},
   "outputs": [
    {
     "name": "stdout",
     "output_type": "stream",
     "text": [
      "{2144013: [{'poi': True}, 'BELDEN TIMOTHY N']}\n"
     ]
    },
    {
     "data": {
      "image/png": "[encoded data removed]",
      "text/plain": [
       "<matplotlib.figure.Figure at 0x11ae5d128>"
      ]
     },
     "metadata": {},
     "output_type": "display_data"
    }
   ],
   "source": [
    "outliers = ['HUMPHREY GENE E', 'MEYER ROCKFORD G']\n",
    "remove_outliers_then_print(tmp_data_dict_deferral_payments, outliers, 'deferral_payments')\n",
    "draw_box_plot(tmp_data_dict_deferral_payments, 'deferral_payments')"
   ]
  },
  {
   "cell_type": "code",
   "execution_count": 250,
   "metadata": {
    "collapsed": true
   },
   "outputs": [],
   "source": [
    "remove_outliers(data_dict, outliers)"
   ]
  },
  {
   "cell_type": "code",
   "execution_count": 251,
   "metadata": {},
   "outputs": [
    {
     "name": "stdout",
     "output_type": "stream",
     "text": [
      "number of 'NaN' in deferred_income => 74\n",
      "{   -3504386: [{'poi': True}, 'RICE KENNETH D'],\n",
      "    -3117011: [{'poi': True}, 'HANNON KEVIN P'],\n",
      "    -2334434: [{'poi': True}, 'BELDEN TIMOTHY N'],\n",
      "    -1386055: [{'poi': True}, 'FASTOW ANDREW S'],\n",
      "    -775241: [{'poi': False}, 'DETMERING TIMOTHY J'],\n",
      "    -719000: [{'poi': False}, 'MULLER MARK S']}\n"
     ]
    },
    {
     "data": {
      "image/png": "[encoded data removed]",
      "text/plain": [
       "<matplotlib.figure.Figure at 0x11a4d1e80>"
      ]
     },
     "metadata": {},
     "output_type": "display_data"
    }
   ],
   "source": [
    "print(\"number of 'NaN' in deferred_income =>\", number_of_nan('deferred_income'))\n",
    "\n",
    "tmp_data_dict_deferred_income = sort_without_nan('deferred_income')\n",
    "tmp_data = show_outliers(tmp_data_dict_deferred_income, 'deferred_income')\n",
    "pp.pprint(tmp_data)\n",
    "draw_box_plot(tmp_data_dict_deferred_income, 'deferred_income')"
   ]
  },
  {
   "cell_type": "code",
   "execution_count": 252,
   "metadata": {},
   "outputs": [
    {
     "name": "stdout",
     "output_type": "stream",
     "text": [
      "{   -3504386: [{'poi': True}, 'RICE KENNETH D'],\n",
      "    -3117011: [{'poi': True}, 'HANNON KEVIN P'],\n",
      "    -2334434: [{'poi': True}, 'BELDEN TIMOTHY N'],\n",
      "    -1386055: [{'poi': True}, 'FASTOW ANDREW S']}\n"
     ]
    },
    {
     "data": {
      "image/png": "[encoded data removed]",
      "text/plain": [
       "<matplotlib.figure.Figure at 0x117168e48>"
      ]
     },
     "metadata": {},
     "output_type": "display_data"
    }
   ],
   "source": [
    "outliers = ['MULLER MARK S', 'DETMERING TIMOTHY J']\n",
    "remove_outliers_then_print(tmp_data_dict_deferred_income, outliers, 'deferred_income')\n",
    "draw_box_plot(tmp_data_dict_deferred_income, 'deferred_income')"
   ]
  },
  {
   "cell_type": "code",
   "execution_count": 253,
   "metadata": {
    "collapsed": true
   },
   "outputs": [],
   "source": [
    "remove_outliers(data_dict, outliers)"
   ]
  },
  {
   "cell_type": "code",
   "execution_count": 254,
   "metadata": {},
   "outputs": [],
   "source": [
    "from sklearn.preprocessing import MinMaxScaler\n",
    "from sklearn.decomposition import PCA\n",
    "\n",
    "scaler = MinMaxScaler()\n",
    "pca = PCA(n_components=1)\n",
    "\n",
    "tmp_data_dict_deferral_payments = sort_without_nan('deferral_payments')\n",
    "tmp_data_dict_deferred_income = sort_without_nan('deferred_income')\n",
    "\n",
    "mean_deferral_payments = np.mean([val['deferral_payments'] for _, val in tmp_data_dict_deferral_payments.items()])\n",
    "mean_deferred_income = np.mean([val['deferred_income'] for _, val in tmp_data_dict_deferred_income.items()])\n",
    "\n",
    "for _, val in data_dict.items():\n",
    "    if val['deferral_payments'] == 'NaN':\n",
    "        val['deferral_payments'] = mean_deferral_payments\n",
    "\n",
    "for _, val in data_dict.items():\n",
    "    if val['deferred_income'] == 'NaN':\n",
    "        val['deferred_income'] = mean_deferred_income        \n",
    "        \n",
    "tmp_deferral_payments = [val['deferral_payments'] for _, val in data_dict.items()]\n",
    "tmp_deferred_income = [val['deferred_income'] for _, val in data_dict.items()]\n",
    "\n",
    "tmp_deferral_payments = scaler.fit_transform(tmp_deferral_payments)\n",
    "tmp_deferred_income = scaler.fit_transform(tmp_deferred_income)\n",
    "\n",
    "X = [[tmp_deferral_payments[idx], tmp_deferred_income[idx]] for idx in range(len(tmp_deferral_payments))]\n",
    "X = pca.fit_transform(X)\n",
    "\n",
    "for idx, key in enumerate(data_dict):\n",
    "    data_dict[key]['deferral_payments+deferred_income'] = X[idx][0]\n",
    "    \n",
    "features_list.append('deferral_payments+deferred_income')"
   ]
  },
  {
   "cell_type": "code",
   "execution_count": 255,
   "metadata": {},
   "outputs": [
    {
     "name": "stdout",
     "output_type": "stream",
     "text": [
      "{   -0.15361820814437926: [{'poi': False}, 'GAHN ROBERT S'],\n",
      "    0.13117605673791358: [{'poi': False}, 'WASAFF GEORGE'],\n",
      "    0.25602929000354957: [{'poi': True}, 'FASTOW ANDREW S'],\n",
      "    0.71085836865686547: [{'poi': True}, 'HANNON KEVIN P'],\n",
      "    0.81264571295870114: [{'poi': True}, 'RICE KENNETH D'],\n",
      "    0.81948729303435119: [{'poi': True}, 'BELDEN TIMOTHY N']}\n"
     ]
    },
    {
     "data": {
      "image/png": "[encoded data removed]",
      "text/plain": [
       "<matplotlib.figure.Figure at 0x11ba74b38>"
      ]
     },
     "metadata": {},
     "output_type": "display_data"
    }
   ],
   "source": [
    "tmp_data_dict = sort_without_nan('deferral_payments+deferred_income')\n",
    "tmp_data = show_outliers(tmp_data_dict, 'deferral_payments+deferred_income')\n",
    "pp.pprint(tmp_data)\n",
    "draw_box_plot(tmp_data_dict, 'deferral_payments+deferred_income')"
   ]
  },
  {
   "cell_type": "code",
   "execution_count": 256,
   "metadata": {},
   "outputs": [
    {
     "name": "stdout",
     "output_type": "stream",
     "text": [
      "{   0.25602929000354957: [{'poi': True}, 'FASTOW ANDREW S'],\n",
      "    0.71085836865686547: [{'poi': True}, 'HANNON KEVIN P'],\n",
      "    0.81264571295870114: [{'poi': True}, 'RICE KENNETH D'],\n",
      "    0.81948729303435119: [{'poi': True}, 'BELDEN TIMOTHY N']}\n"
     ]
    },
    {
     "data": {
      "image/png": "[encoded data removed]",
      "text/plain": [
       "<matplotlib.figure.Figure at 0x11a5e86d8>"
      ]
     },
     "metadata": {},
     "output_type": "display_data"
    }
   ],
   "source": [
    "outliers = ['WASAFF GEORGE', 'GAHN ROBERT S']\n",
    "remove_outliers_then_print(tmp_data_dict, outliers, 'deferral_payments+deferred_income')\n",
    "draw_box_plot(tmp_data_dict, 'deferral_payments+deferred_income')"
   ]
  },
  {
   "cell_type": "code",
   "execution_count": 257,
   "metadata": {
    "collapsed": true
   },
   "outputs": [],
   "source": [
    "remove_outliers(data_dict, 'deferral_payments+deferred_income')"
   ]
  },
  {
   "cell_type": "markdown",
   "metadata": {},
   "source": [
    "# After removing outliers & adding new feature"
   ]
  },
  {
   "cell_type": "markdown",
   "metadata": {},
   "source": [
    "After removing outliers, I think it is worth to try it directly and compare the result with the previously experimented one."
   ]
  },
  {
   "cell_type": "code",
   "execution_count": 258,
   "metadata": {},
   "outputs": [
    {
     "name": "stdout",
     "output_type": "stream",
     "text": [
      "[0.0, 0.0, 0.0, 1.0, 0.0, 0.0, 0.0, 0.0, 0.0, 0.0, 0.0, 1.0, 0.0, 0.0, 0.0, 1.0, 0.0, 1.0, 0.0, 0.0, 0.0, 1.0, 0.0, 0.0, 0.0, 0.0, 1.0, 0.0, 0.0, 0.0, 0.0, 0.0, 1.0, 0.0, 0.0, 0.0, 0.0, 0.0, 0.0, 0.0, 0.0, 0.0, 1.0, 0.0, 0.0, 1.0, 0.0, 0.0, 0.0, 0.0, 0.0, 1.0, 0.0, 0.0, 0.0, 0.0, 0.0, 1.0, 1.0, 1.0, 0.0, 0.0, 0.0, 0.0, 0.0, 0.0, 0.0, 0.0, 0.0, 0.0, 0.0, 0.0, 0.0, 0.0, 0.0, 0.0, 0.0, 0.0, 0.0, 0.0, 0.0, 0.0, 0.0, 1.0, 1.0, 0.0, 0.0, 0.0, 1.0, 0.0, 0.0, 1.0, 0.0, 0.0, 0.0, 0.0, 0.0, 0.0, 0.0, 0.0, 0.0, 0.0, 0.0, 0.0, 0.0, 0.0, 0.0, 0.0, 0.0, 1.0, 0.0]\n",
      "DecisionTreeClassifier(class_weight=None, criterion='gini', max_depth=None,\n",
      "            max_features=None, max_leaf_nodes=None,\n",
      "            min_impurity_split=1e-07, min_samples_leaf=1,\n",
      "            min_samples_split=2, min_weight_fraction_leaf=0.0,\n",
      "            presort=False, random_state=42, splitter='best')\n",
      "\tAccuracy: 0.83008\tPrecision: 0.49034\tRecall: 0.49500\tF1: 0.49266\tF2: 0.49406\n",
      "\tTotal predictions: 12000\tTrue positives:  990\tFalse positives: 1029\tFalse negatives: 1010\tTrue negatives: 8971\n",
      "\n"
     ]
    }
   ],
   "source": [
    "simple_train_result(data_dict)"
   ]
  },
  {
   "cell_type": "markdown",
   "metadata": {},
   "source": [
    "It looks like removing the outliers did the trick to meet the requirement. However, I believe in that I can get much better result if I try my best to find the best parameters. "
   ]
  },
  {
   "cell_type": "markdown",
   "metadata": {},
   "source": [
    "# Find the best model"
   ]
  },
  {
   "cell_type": "markdown",
   "metadata": {},
   "source": [
    "In order to find the best model (having the best parameters as much as I can find), I am going to define 2 functions\n",
    "\n",
    "- **test_classifier_return_metrics:** measures each metric score values and return them for later use\n",
    "- **test_classifiers:** attempt to find the best model using the follow steps.\n",
    " - Loop over k=1 ~ k=len(feature_list)\n",
    " - Pipeline SelectKBest with base classfier. The base calssfier can be anything like DecisionTree, Adaboost, or etc,. For every loop, k value for SelectKBest is changed to find the best feature list for a given number of feature limit. I also want to track and compare each model with different k value later.\n",
    " - Perform GridSearchCV with the previously made Pipeline. Variety of different parameters for different classifiers specified in the Pipeline can be given as a parameter. StratifiedShuffleSplit is also used to perform cross validation.\n",
    " - retrieve the best model(estimator) and feature list used for later use"
   ]
  },
  {
   "cell_type": "code",
   "execution_count": 111,
   "metadata": {
    "collapsed": true
   },
   "outputs": [],
   "source": [
    "def test_classifier_return_metrics(clf, dataset, feature_list, folds = 1000):\n",
    "    data = featureFormat(dataset, feature_list, sort_keys = True)\n",
    "    labels, features = targetFeatureSplit(data)\n",
    "    cv = StratifiedShuffleSplit(labels, folds, random_state = 42)\n",
    "    \n",
    "    total_predictions = 0\n",
    "    accuracy = 0\n",
    "    precision = 0\n",
    "    recall = 0\n",
    "    f1 = 0\n",
    "    f2 = 0\n",
    "    \n",
    "    true_negatives = 0\n",
    "    false_negatives = 0\n",
    "    true_positives = 0\n",
    "    false_positives = 0\n",
    "    \n",
    "    for train_idx, test_idx in cv:\n",
    "        features_train = []\n",
    "        features_test  = []\n",
    "        labels_train   = []\n",
    "        labels_test    = []\n",
    "        for ii in train_idx:\n",
    "            features_train.append( features[ii] )\n",
    "            labels_train.append( labels[ii] )\n",
    "        for jj in test_idx:\n",
    "            features_test.append( features[jj] )\n",
    "            labels_test.append( labels[jj] )\n",
    "            \n",
    "        ### fit the classifier using training set, and test on test set\n",
    "        clf.fit(features_train, labels_train)\n",
    "        predictions = clf.predict(features_test)\n",
    "        for prediction, truth in zip(predictions, labels_test):\n",
    "            if prediction == 0 and truth == 0:\n",
    "                true_negatives += 1\n",
    "            elif prediction == 0 and truth == 1:\n",
    "                false_negatives += 1\n",
    "            elif prediction == 1 and truth == 0:\n",
    "                false_positives += 1\n",
    "            elif prediction == 1 and truth == 1:\n",
    "                true_positives += 1\n",
    "            else:\n",
    "                break\n",
    "    try:\n",
    "        total_predictions = true_negatives + false_negatives + false_positives + true_positives\n",
    "        accuracy = 1.0*(true_positives + true_negatives)/total_predictions\n",
    "        precision = 1.0*true_positives/(true_positives+false_positives)\n",
    "        recall = 1.0*true_positives/(true_positives+false_negatives)\n",
    "        f1 = 2.0 * true_positives/(2*true_positives + false_positives+false_negatives)\n",
    "        f2 = (1+2.0*2.0) * precision*recall/(4*precision + recall)\n",
    "        return accuracy, precision, recall, f1, f2\n",
    "    except:\n",
    "        return accuracy, precision, recall, f1, f2\n",
    "    "
   ]
  },
  {
   "cell_type": "code",
   "execution_count": 54,
   "metadata": {
    "collapsed": true
   },
   "outputs": [],
   "source": [
    "from sklearn.feature_selection import SelectKBest\n",
    "from sklearn.feature_selection import f_classif\n",
    "from sklearn.model_selection import GridSearchCV\n",
    "from sklearn.cross_validation import StratifiedShuffleSplit\n",
    "from sklearn.pipeline import Pipeline\n",
    "\n",
    "def test_classifiers(base_clf, parameters, n_splits=1000):\n",
    "    data = featureFormat(data_dict, features_list, sort_keys = True)\n",
    "    labels, features = targetFeatureSplit(data)\n",
    "\n",
    "    tmp_features_list = features_list.copy()\n",
    "    tmp_features_list.remove('poi')\n",
    "    \n",
    "    result_clf = []\n",
    "    result_features = []\n",
    "    \n",
    "    for i in range(len(tmp_features_list)):\n",
    "        k = i+1\n",
    "        skb = SelectKBest(f_classif, k=k)\n",
    "        sss = StratifiedShuffleSplit(labels, n_splits, random_state = 42)\n",
    "        pipeline = Pipeline([('skb', skb), ('clf', base_clf)])\n",
    "\n",
    "        grid = GridSearchCV(pipeline, param_grid=parameters, cv=sss, scoring='f1')\n",
    "        grid.fit(features, labels)\n",
    "        \n",
    "        model = grid.best_estimator_\n",
    "        feature_idx = grid.best_estimator_.named_steps['skb'].get_support(indices=True)\n",
    "        new_features_list = []\n",
    "        \n",
    "        for idx in feature_idx:\n",
    "            new_features_list.append(tmp_features_list[idx])\n",
    "        \n",
    "        if 'poi' not in new_features_list:\n",
    "            new_features_list.insert(0, 'poi')\n",
    "        \n",
    "        result_clf.append(model)\n",
    "        result_features.append(new_features_list)\n",
    "        \n",
    "        print('k =',k, 'is done...')\n",
    "    \n",
    "    return result_clf, result_features"
   ]
  },
  {
   "cell_type": "code",
   "execution_count": 64,
   "metadata": {
    "collapsed": true
   },
   "outputs": [],
   "source": [
    "def add_result_to_all(target, name, result_clf, result_features):\n",
    "    for idx in range(len(result_clf)):\n",
    "        if idx in target.keys():\n",
    "            target[idx].append({name: [result_clf[idx], result_features[idx]]})\n",
    "        else:\n",
    "            target[idx] = []\n",
    "            target[idx].append({name: [result_clf[idx], result_features[idx]]})"
   ]
  },
  {
   "cell_type": "markdown",
   "metadata": {},
   "source": [
    "## Running variety of classifiers with variety of parameters."
   ]
  },
  {
   "cell_type": "markdown",
   "metadata": {},
   "source": [
    "### DecisionTreeClassifier"
   ]
  },
  {
   "cell_type": "code",
   "execution_count": 68,
   "metadata": {},
   "outputs": [
    {
     "name": "stdout",
     "output_type": "stream",
     "text": [
      "k= 1 is done...\n",
      "k= 2 is done...\n",
      "k= 3 is done...\n",
      "k= 4 is done...\n",
      "k= 5 is done...\n",
      "k= 6 is done...\n",
      "k= 7 is done...\n",
      "k= 8 is done...\n"
     ]
    }
   ],
   "source": [
    "from sklearn.tree import DecisionTreeClassifier\n",
    "\n",
    "import warnings\n",
    "warnings.filterwarnings(action='ignore')\n",
    "\n",
    "results = {}\n",
    "\n",
    "parameters = {'clf__criterion': ['gini', 'entropy'], 'clf__min_samples_split': [2, 5, 10, 15, 20, 30]}\n",
    "dtc_clf = DecisionTreeClassifier(random_state=42)\n",
    "\n",
    "result_clf, result_features = test_classifiers(dtc_clf, parameters)\n",
    "add_result_to_all(results, 'decision tree', result_clf, result_features)"
   ]
  },
  {
   "cell_type": "markdown",
   "metadata": {},
   "source": [
    "### AdaBoostClassifier"
   ]
  },
  {
   "cell_type": "code",
   "execution_count": 73,
   "metadata": {},
   "outputs": [
    {
     "name": "stdout",
     "output_type": "stream",
     "text": [
      "k= 1 is done...\n",
      "k= 2 is done...\n",
      "k= 3 is done...\n",
      "k= 4 is done...\n",
      "k= 5 is done...\n",
      "k= 6 is done...\n",
      "k= 7 is done...\n",
      "k= 8 is done...\n"
     ]
    }
   ],
   "source": [
    "from sklearn.ensemble import AdaBoostClassifier\n",
    "\n",
    "parameters = {'clf__learning_rate': [1, 0.1, 0.05, 0.01, 0.005],\n",
    "              'clf__algorithm': ('SAMME', 'SAMME.R'),\n",
    "              'clf__n_estimators': [3, 7, 10, 30, 50]}\n",
    "adb_clf = AdaBoostClassifier(random_state=42)\n",
    "\n",
    "result_clf, result_features = test_classifiers(adb_clf, parameters)\n",
    "add_result_to_all(results, 'adaboost', result_clf, result_features)"
   ]
  },
  {
   "cell_type": "markdown",
   "metadata": {},
   "source": [
    "### RandomForestClassifier"
   ]
  },
  {
   "cell_type": "code",
   "execution_count": 74,
   "metadata": {
    "scrolled": true
   },
   "outputs": [
    {
     "name": "stdout",
     "output_type": "stream",
     "text": [
      "k= 1 is done...\n",
      "k= 2 is done...\n",
      "k= 3 is done...\n",
      "k= 4 is done...\n",
      "k= 5 is done...\n",
      "k= 6 is done...\n",
      "k= 7 is done...\n",
      "k= 8 is done...\n"
     ]
    }
   ],
   "source": [
    "from sklearn.ensemble import RandomForestClassifier\n",
    "\n",
    "parameters = {'clf__n_estimators': [10, 15, 20],\n",
    "              'clf__criterion': ['gini', 'entropy'],\n",
    "              'clf__min_samples_split': [10, 15, 20],\n",
    "              'clf__oob_score': [True],\n",
    "              'clf__max_features': ['sqrt', 'log2'],\n",
    "              'clf__class_weight': ['balanced']},\n",
    "\n",
    "rf_clf = RandomForestClassifier(random_state=42, oob_score=True)\n",
    "result_clf, result_features = test_classifiers(rf_clf, parameters)\n",
    "add_result_to_all(results, 'random forest', result_clf, result_features)"
   ]
  },
  {
   "cell_type": "markdown",
   "metadata": {},
   "source": [
    "### Support Vector Machine"
   ]
  },
  {
   "cell_type": "code",
   "execution_count": 75,
   "metadata": {},
   "outputs": [
    {
     "name": "stdout",
     "output_type": "stream",
     "text": [
      "k= 1 is done...\n",
      "k= 2 is done...\n",
      "k= 3 is done...\n",
      "k= 4 is done...\n",
      "k= 5 is done...\n",
      "k= 6 is done...\n",
      "k= 7 is done...\n",
      "k= 8 is done...\n"
     ]
    }
   ],
   "source": [
    "from sklearn.svm import SVC\n",
    "\n",
    "parameters = {'clf__kernel': ['rbf', 'sigmoid'],\n",
    "              'clf__class_weight': ['balanced'],\n",
    "              'clf__max_iter': [10, 20, 30],\n",
    "              'clf__decision_function_shape': ['ovo', 'ovr']}\n",
    "svc_clf = SVC(random_state=42)\n",
    "result_clf, result_features = test_classifiers(svc_clf, parameters)\n",
    "add_result_to_all(results, 'svm', result_clf, result_features)"
   ]
  },
  {
   "cell_type": "markdown",
   "metadata": {},
   "source": [
    "### Gaussian Naive Bayse"
   ]
  },
  {
   "cell_type": "code",
   "execution_count": 70,
   "metadata": {},
   "outputs": [
    {
     "name": "stdout",
     "output_type": "stream",
     "text": [
      "k= 1 is done...\n",
      "k= 2 is done...\n",
      "k= 3 is done...\n",
      "k= 4 is done...\n",
      "k= 5 is done...\n",
      "k= 6 is done...\n",
      "k= 7 is done...\n",
      "k= 8 is done...\n"
     ]
    }
   ],
   "source": [
    "from sklearn.naive_bayes import GaussianNB\n",
    "\n",
    "parameters = {}\n",
    "nb_clf = GaussianNB()\n",
    "result_clf, result_features = test_classifiers(nb_clf, parameters)\n",
    "add_result_to_all(results, 'gaussian nb', result_clf, result_features)"
   ]
  },
  {
   "cell_type": "markdown",
   "metadata": {},
   "source": [
    "## Test & Compare each model in a group of k"
   ]
  },
  {
   "cell_type": "markdown",
   "metadata": {},
   "source": [
    "In order to see how good they are, I am going to run test_classifier_return_metrics function to retrieve accuracy, precision, recall, and f1 scores from each model. I am going to group them into different number of features."
   ]
  },
  {
   "cell_type": "code",
   "execution_count": 122,
   "metadata": {},
   "outputs": [
    {
     "name": "stdout",
     "output_type": "stream",
     "text": [
      "k, clf name, f1, accuracy\n",
      "k = 1\n",
      "\t decision tree 0.7053451517593339 0.8171666666666667\n",
      "\t gaussian nb 0.5385878489326765 0.7658333333333334\n",
      "\t adaboost 0.715927750410509 0.827\n",
      "\t random forest 0.6830785177507126 0.7961666666666667\n",
      "\t svm 0 0.6666666666666666\n",
      "k = 2\n",
      "\t decision tree 0.6499454743729552 0.8165714285714286\n",
      "\t gaussian nb 0.5132275132275133 0.7897142857142857\n",
      "\t adaboost 0.6567493112947659 0.822\n",
      "\t random forest 0.6389462809917356 0.8002857142857143\n",
      "\t svm 0 0.7142857142857143\n",
      "k = 3\n",
      "\t decision tree 0.6484660849985927 0.8215714285714286\n",
      "\t gaussian nb 0.5241837968561064 0.7751428571428571\n",
      "\t adaboost 0.649746192893401 0.8225714285714286\n",
      "\t random forest 0.5840478046245778 0.7712857142857142\n",
      "\t svm 0 0.7142857142857143\n",
      "k = 4\n",
      "\t decision tree 0.6264665757162347 0.8631\n",
      "\t gaussian nb 0.6086714841578654 0.8592\n",
      "\t adaboost 0.5889967637540453 0.8603\n",
      "\t random forest 0.5607476635514018 0.8167\n",
      "\t svm 0.3333333333333333 0.2\n",
      "k = 5\n",
      "\t decision tree 0.6398293788323114 0.8649\n",
      "\t gaussian nb 0.5793262309242729 0.8539\n",
      "\t adaboost 0.6361817662189196 0.8727\n",
      "\t random forest 0.5483572420175844 0.8048\n",
      "\t svm 0.3333333333333333 0.2\n",
      "k = 6\n",
      "\t decision tree 0.6188870151770658 0.8644\n",
      "\t gaussian nb 0.5887372013651877 0.8554\n",
      "\t adaboost 0.5972602739726027 0.853\n",
      "\t random forest 0.5945565462224308 0.8272\n",
      "\t svm 0.3333333333333333 0.2\n",
      "k = 7\n",
      "\t decision tree 0.6192423003543199 0.8835833333333334\n",
      "\t gaussian nb 0.5996784565916399 0.8755\n",
      "\t adaboost 0.6219581211092247 0.8886666666666667\n",
      "\t random forest 0.5941756693283231 0.856\n",
      "\t svm 0.31658092599920856 0.28041666666666665\n",
      "k = 8\n",
      "\t decision tree 0.6152601779455379 0.8810833333333333\n",
      "\t gaussian nb 0.601030648223488 0.8774166666666666\n",
      "\t adaboost 0.6208463504686169 0.88875\n",
      "\t random forest 0.6466466466466466 0.8823333333333333\n",
      "\t svm 0.31658092599920856 0.28041666666666665\n"
     ]
    }
   ],
   "source": [
    "model_names = []\n",
    "count = 0\n",
    "\n",
    "metric_results = {}\n",
    "\n",
    "print('k, clf name, f1, accuracy')\n",
    "\n",
    "for idx in results.keys():\n",
    "    f1_results = []\n",
    "    acc_results = []\n",
    "    feature_list = []\n",
    "    \n",
    "    print('k =', idx+1)\n",
    "    \n",
    "    for model in results[idx]:\n",
    "        model_name = list(model.keys())[0]\n",
    "        \n",
    "        if count == 0:\n",
    "            model_names.append(model_name)\n",
    "\n",
    "        clf = model[model_name][0]\n",
    "        feature = model[model_name][1]\n",
    "\n",
    "        accuracy, _, _, f1, _ = test_classifier_return_metrics(clf, data_dict, feature)\n",
    "\n",
    "        f1_results.append(f1)\n",
    "        acc_results.append(accuracy)\n",
    "        feature_list.append(feature)\n",
    "\n",
    "        metric_results[idx] = [acc_results, f1_results, feature_list]\n",
    "        \n",
    "        print('\\t', model_name, f1, accuracy)\n",
    "    \n",
    "    count += 1"
   ]
  },
  {
   "cell_type": "code",
   "execution_count": 156,
   "metadata": {},
   "outputs": [
    {
     "data": {
      "image/png": "[encoded data removed]",
      "text/plain": [
       "<matplotlib.figure.Figure at 0x11af03d68>"
      ]
     },
     "metadata": {},
     "output_type": "display_data"
    }
   ],
   "source": [
    "plt.figure(figsize=(18, 8), dpi= 80, facecolor='w', edgecolor='k')\n",
    "\n",
    "plt.title(\"f1 score comparison by # of features\")\n",
    "plt.xlabel(\"# of features (k) - 1\")\n",
    "\n",
    "for idx in range(5):\n",
    "    plt.plot([val[1][idx] for k, val in metric_results.items()])\n",
    "    plt.legend(model_names)"
   ]
  },
  {
   "cell_type": "markdown",
   "metadata": {},
   "source": [
    "For f1 score which could also represent how good precision and recall are, **'Adaboost'** achieved the best result with two features. The **f1 score** for 'Adaboost' is approximately **0.7159** with the **feature list** of **'poi' and 'bonus'**. The **paremeters** used to achieve the result are **'SAMME.R'** for the algorithm choice, **0.05** for the learning rate, and **30** for the number of estimators.\n",
    "\n",
    "Even though 'Adaboost' achieved the best result, other models also could get competitive result as well. Most of them achieved better than 0.3 score on precision and recall. "
   ]
  },
  {
   "cell_type": "code",
   "execution_count": 175,
   "metadata": {},
   "outputs": [
    {
     "name": "stdout",
     "output_type": "stream",
     "text": [
      "the best pipeline model for f1 score\n",
      "Pipeline(steps=[('skb', SelectKBest(k=1, score_func=<function f_classif at 0x1134c1048>)), ('clf', AdaBoostClassifier(algorithm='SAMME.R', base_estimator=None,\n",
      "          learning_rate=0.05, n_estimators=30, random_state=42))]) \n",
      "\n",
      "the best feature list for the chosen model\n",
      "['poi', 'bonus'] \n",
      "\n",
      "the f1 score of the chose model\n",
      "0.715927750410509\n"
     ]
    }
   ],
   "source": [
    "print(\"the best pipeline model for f1 score\")\n",
    "print(results[0][2]['adaboost'][0], '\\n')\n",
    "\n",
    "print(\"the best feature list for the chosen model\")\n",
    "print(results[0][2]['adaboost'][1], '\\n')\n",
    "\n",
    "print(\"the f1 score of the chosen model\")\n",
    "print(metric_results[0][1][2])"
   ]
  },
  {
   "cell_type": "code",
   "execution_count": 158,
   "metadata": {},
   "outputs": [
    {
     "data": {
      "image/png": "[encoded data removed]",
      "text/plain": [
       "<matplotlib.figure.Figure at 0x11b5fd6d8>"
      ]
     },
     "metadata": {},
     "output_type": "display_data"
    }
   ],
   "source": [
    "plt.figure(figsize=(18, 8), dpi= 80, facecolor='w', edgecolor='k')\n",
    "\n",
    "plt.title(\"accuracy score comparison by # of features\")\n",
    "plt.xlabel(\"# of features (k) - 1\")\n",
    "\n",
    "for idx in range(5):\n",
    "    plt.plot([val[0][idx] for k, val in metric_results.items()])\n",
    "    plt.legend(model_names)"
   ]
  },
  {
   "cell_type": "markdown",
   "metadata": {},
   "source": [
    "For accuracy score, it is hard to tell which one is really good because every algorithm choice looks having similar accuracy. I would choose the adaboost model just like I chose it for f1 score section. As the number of feature increases, the model complexity also get increased. This possibly could mean they can get better accuracy score, but they might be overfitted. It is almost always better to avoid overfitting issue, and f1 score could measure how well a model does a job about it.\n",
    "\n",
    "As Adaboost showed the best result on f1 score with the least number of feature, I think it is not overfitted, and the accuracy score for the corresponding model is not bad as well."
   ]
  },
  {
   "cell_type": "code",
   "execution_count": 261,
   "metadata": {},
   "outputs": [
    {
     "name": "stdout",
     "output_type": "stream",
     "text": [
      "the accuracy score of the chosen model\n",
      "0.827\n"
     ]
    }
   ],
   "source": [
    "print(\"the accuracy score of the chosen model\")\n",
    "print(metric_results[0][0][2])"
   ]
  },
  {
   "cell_type": "markdown",
   "metadata": {},
   "source": [
    "### Conclusion"
   ]
  },
  {
   "cell_type": "markdown",
   "metadata": {},
   "source": [
    "The best model I could find is 'Adaboost'. The parameters with the below, it did the best job.\n",
    "\n",
    "- feature list: 'poi', 'bonus'\n",
    "- algotirthm: 'SAMME.R'\n",
    "- learning rate: 0.05\n",
    "- number of estimators: 30\n",
    "\n",
    "And the scores are\n",
    "\n",
    "- accuracy: 0.827\n",
    "- f1: 0.7159\n",
    "\n",
    "This model achieved the best f1 score comparing to other models, DecisionTree, Gaussian Naive Bayes, Random Forest, and Support Vector Machine. While having the best f1 score, the number of feature used is only 2. I think it could mean this model is not overfitted much. Furthermore, it achieved the best accuracy as well in the group of other models under the same number of features."
   ]
  },
  {
   "cell_type": "code",
   "execution_count": null,
   "metadata": {
    "collapsed": true
   },
   "outputs": [],
   "source": []
  }
 ],
 "metadata": {
  "kernelspec": {
   "display_name": "Python 3",
   "language": "python",
   "name": "python3"
  },
  "language_info": {
   "codemirror_mode": {
    "name": "ipython",
    "version": 3
   },
   "file_extension": ".py",
   "mimetype": "text/x-python",
   "name": "python",
   "nbconvert_exporter": "python",
   "pygments_lexer": "ipython3",
   "version": "3.6.1"
  }
 },
 "nbformat": 4,
 "nbformat_minor": 2
}
